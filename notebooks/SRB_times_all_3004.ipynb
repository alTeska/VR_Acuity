{
 "cells": [
  {
   "cell_type": "markdown",
   "metadata": {},
   "source": [
    "## Applying new SRB calculations on data"
   ]
  },
  {
   "cell_type": "code",
   "execution_count": 1,
   "metadata": {},
   "outputs": [],
   "source": [
    "# data loading\n",
    "import numpy as np\n",
    "import pandas as pd\n",
    "import matplotlib.pyplot as plt\n",
    "import seaborn as sns\n",
    "from mpl_toolkits.mplot3d import Axes3D\n",
    "from scipy import stats, integrate\n",
    "\n",
    "%matplotlib inline\n",
    "sns.set(color_codes=True)\n",
    "\n",
    "path = '../datasets/preprocessed/'\n",
    "dfrat     = pd.read_hdf(path+'relationalDatabase.h5', 'Rat_Behavior').set_index('index')\n",
    "dfevent   = pd.read_hdf(path+'relationalDatabase.h5', 'Events').set_index('index')\n",
    "dfsession = pd.read_hdf(path+'relationalDatabase.h5', 'Sessions')\n",
    "\n",
    "dfratclean = pd.read_hdf(path+'filteredDatabase.h5', 'Rat_Behavior').set_index('index')\n",
    "dfratv = pd.read_hdf(path+'velocityDatabase.h5', 'Rat_Behavior').set_index('index')"
   ]
  },
  {
   "cell_type": "code",
   "execution_count": 4,
   "metadata": {},
   "outputs": [],
   "source": [
    "df = pd.merge(dfratv, dfevent, on=['Frame', 'session_id','Time'])"
   ]
  },
  {
   "cell_type": "code",
   "execution_count": 2,
   "metadata": {},
   "outputs": [
    {
     "data": {
      "text/html": [
       "<div>\n",
       "<style scoped>\n",
       "    .dataframe tbody tr th:only-of-type {\n",
       "        vertical-align: middle;\n",
       "    }\n",
       "\n",
       "    .dataframe tbody tr th {\n",
       "        vertical-align: top;\n",
       "    }\n",
       "\n",
       "    .dataframe thead th {\n",
       "        text-align: right;\n",
       "    }\n",
       "</style>\n",
       "<table border=\"1\" class=\"dataframe\">\n",
       "  <thead>\n",
       "    <tr style=\"text-align: right;\">\n",
       "      <th></th>\n",
       "      <th>max</th>\n",
       "      <th>min</th>\n",
       "      <th>speed</th>\n",
       "    </tr>\n",
       "  </thead>\n",
       "  <tbody>\n",
       "    <tr>\n",
       "      <th>0</th>\n",
       "      <td>-3</td>\n",
       "      <td>-10</td>\n",
       "      <td>7</td>\n",
       "    </tr>\n",
       "    <tr>\n",
       "      <th>1</th>\n",
       "      <td>10</td>\n",
       "      <td>3</td>\n",
       "      <td>-7</td>\n",
       "    </tr>\n",
       "    <tr>\n",
       "      <th>2</th>\n",
       "      <td>-6</td>\n",
       "      <td>-16</td>\n",
       "      <td>14</td>\n",
       "    </tr>\n",
       "    <tr>\n",
       "      <th>3</th>\n",
       "      <td>16</td>\n",
       "      <td>6</td>\n",
       "      <td>-14</td>\n",
       "    </tr>\n",
       "    <tr>\n",
       "      <th>4</th>\n",
       "      <td>-20</td>\n",
       "      <td>-34</td>\n",
       "      <td>28</td>\n",
       "    </tr>\n",
       "    <tr>\n",
       "      <th>5</th>\n",
       "      <td>34</td>\n",
       "      <td>20</td>\n",
       "      <td>-28</td>\n",
       "    </tr>\n",
       "  </tbody>\n",
       "</table>\n",
       "</div>"
      ],
      "text/plain": [
       "   max  min  speed\n",
       "0   -3  -10      7\n",
       "1   10    3     -7\n",
       "2   -6  -16     14\n",
       "3   16    6    -14\n",
       "4  -20  -34     28\n",
       "5   34   20    -28"
      ]
     },
     "execution_count": 2,
     "metadata": {},
     "output_type": "execute_result"
    }
   ],
   "source": [
    "limits=pd.DataFrame({'speed':[7, -7, 14, -14, 28, -28],\n",
    "                     'min'  :[-10, 3, -16, 6, -34, 20],\n",
    "                     'max'  :[-3, 10, -6, 16, -20, 34]})\n",
    "limits"
   ]
  },
  {
   "cell_type": "code",
   "execution_count": 5,
   "metadata": {},
   "outputs": [],
   "source": [
    "df['limmin'], df['limmax'] = 0, 0\n",
    "for index, row in limits.iterrows():\n",
    "    df['changemin'] = (df['limmin']==0) & (df['speed']==-row['speed'])\n",
    "    df['changemax'] = (df['limmax']==0) & (df['speed']==-row['speed'])\n",
    "    df['limmin'] = np.where(df['changemin']==True, row['min'], df['limmin'])\n",
    "    df['limmax'] = np.where(df['changemax']==True, row['max'], df['limmax'])"
   ]
  },
  {
   "cell_type": "code",
   "execution_count": 6,
   "metadata": {},
   "outputs": [
    {
     "name": "stdout",
     "output_type": "stream",
     "text": [
      "761985\n",
      "110056\n"
     ]
    }
   ],
   "source": [
    "df['SRB'] = (df['U'] > df['limmin']) & (df['U'] < df['limmax'])\n",
    "print(len(df))\n",
    "print(len(df[df['SRB']==True]))"
   ]
  },
  {
   "cell_type": "markdown",
   "metadata": {},
   "source": [
    "## Removing small SRB moments"
   ]
  },
  {
   "cell_type": "code",
   "execution_count": 7,
   "metadata": {},
   "outputs": [
    {
     "name": "stderr",
     "output_type": "stream",
     "text": [
      "/home/ateska/anaconda3/lib/python3.6/site-packages/ipykernel_launcher.py:6: SettingWithCopyWarning: \n",
      "A value is trying to be set on a copy of a slice from a DataFrame.\n",
      "Try using .loc[row_indexer,col_indexer] = value instead\n",
      "\n",
      "See the caveats in the documentation: http://pandas.pydata.org/pandas-docs/stable/indexing.html#indexing-view-versus-copy\n",
      "  \n",
      "/home/ateska/anaconda3/lib/python3.6/site-packages/ipykernel_launcher.py:33: SettingWithCopyWarning: \n",
      "A value is trying to be set on a copy of a slice from a DataFrame.\n",
      "Try using .loc[row_indexer,col_indexer] = value instead\n",
      "\n",
      "See the caveats in the documentation: http://pandas.pydata.org/pandas-docs/stable/indexing.html#indexing-view-versus-copy\n"
     ]
    }
   ],
   "source": [
    "# MERGING SRB THAT HAVE REALLY SHORT BREAKS\n",
    "DF2 = pd.DataFrame()\n",
    "for name, dd in df.groupby('session_id'):   \n",
    "    # calculating dtime - time difference between srb    \n",
    "    dfSRBtemp = dd[dd['SRB']==True]\n",
    "    dfSRBtemp['dtime'] = dfSRBtemp['Time'].diff(1)\n",
    "    df2 = pd.merge(dd, dfSRBtemp[['dtime', 'Frame', 'session_id','Time']], on=['Frame', 'session_id','Time'], how='outer')\n",
    "    df2.fillna(0, inplace=True)\n",
    "    \n",
    "    #special time cases\n",
    "    dftemp = dfSRBtemp[(dfSRBtemp['dtime']>0.005) & (dfSRBtemp['dtime']<0.1)]\n",
    "    dftemp = dftemp.reset_index(drop=True)\n",
    "\n",
    "    maxF, minF = {}, {}\n",
    "    minF={}\n",
    "    df2['SRBall'] = df2['SRB']     \n",
    "    df2['SRBtt'] = False\n",
    "    # merge super close events\n",
    "    for i in np.arange(0,len(dftemp)):\n",
    "        maxF[i] = dftemp.Time[i]\n",
    "        minF[i] = maxF[i]-dftemp.dtime[i]\n",
    "    \n",
    "        df2['SRBtt'] = (df2['Time']>minF[i]) & (df2['Time']<maxF[i])\n",
    "        df2['SRBall'] = (df2['SRBtt']==True) | (df2['SRBall']==True)\n",
    "        \n",
    "    df2['dtimeA'] = df2['dtime']\n",
    "    df2.drop('dtime', inplace=True, axis=1)\n",
    "    \n",
    "    \n",
    "    # DELETING SHORT SRB\n",
    "    # calculating dtime - time of srb    \n",
    "    dfSRBtemp2 = df2[df2['SRBall']==False]\n",
    "    dfSRBtemp2['dtime'] = dfSRBtemp2['Time'].diff(1)\n",
    "    df22 = pd.merge(df2, dfSRBtemp2[['dtime', 'Frame', 'session_id','Time']], on=['Frame', 'session_id','Time'], how='outer')\n",
    "    df22.fillna(0, inplace=True)\n",
    "    \n",
    "    #special time cases\n",
    "    dftemp2 = dfSRBtemp2[(dfSRBtemp2['dtime']<0.1) & (dfSRBtemp2['dtime']>0.0049)]\n",
    "    dftemp2 = dftemp2.reset_index(drop=True)    \n",
    "    maxF2, minF2 = {}, {}\n",
    "    df22['SRBall2'] = df22['SRBall']     \n",
    "    df22['SRBtt2'] = False\n",
    "    \n",
    "    # delete short events\n",
    "    for i in np.arange(0,len(dftemp2)):\n",
    "        maxF2[i] = dftemp2.Time[i]\n",
    "        minF2[i] = dftemp2.Time[i] - dftemp2.dtime[i]\n",
    "        df22['SRBtt2'] = ((df22['Time']>=minF2[i]) & (df22['Time']<=maxF2[i]))# | (df2['SRBtt']==True)\n",
    "        df22['SRBall2'] = (df22['SRBtt2']==False) & (df22['SRBall2'] == True)\n",
    "        \n",
    "    DF2 = pd.concat([DF2, df22], axis=0, ignore_index=True)    "
   ]
  },
  {
   "cell_type": "code",
   "execution_count": 10,
   "metadata": {},
   "outputs": [
    {
     "data": {
      "text/plain": [
       "<seaborn.axisgrid.FacetGrid at 0x7f420c165908>"
      ]
     },
     "execution_count": 10,
     "metadata": {},
     "output_type": "execute_result"
    },
    {
     "data": {
      "image/png": "[encoded data removed]",
      "text/plain": [
       "<matplotlib.figure.Figure at 0x7f421dfd1b38>"
      ]
     },
     "metadata": {},
     "output_type": "display_data"
    },
    {
     "data": {
      "image/png": "[encoded data removed]",
      "text/plain": [
       "<matplotlib.figure.Figure at 0x7f421df4cc18>"
      ]
     },
     "metadata": {},
     "output_type": "display_data"
    }
   ],
   "source": [
    "g = sns.FacetGrid(data=DF2, size=6, aspect=2, hue='session_id')#, xlim=[0,10])\n",
    "g.map(sns.distplot, 'dtime')\n",
    "\n",
    "g = sns.FacetGrid(data=DF2, size=6, aspect=2, hue='session_id')#, xlim=[0,1])\n",
    "g.map(sns.distplot, 'dtimeA')\n"
   ]
  }
 ],
 "metadata": {
  "kernelspec": {
   "display_name": "Python 3",
   "language": "python",
   "name": "python3"
  },
  "language_info": {
   "codemirror_mode": {
    "name": "ipython",
    "version": 3
   },
   "file_extension": ".py",
   "mimetype": "text/x-python",
   "name": "python",
   "nbconvert_exporter": "python",
   "pygments_lexer": "ipython3",
   "version": "3.6.3"
  }
 },
 "nbformat": 4,
 "nbformat_minor": 2
}
