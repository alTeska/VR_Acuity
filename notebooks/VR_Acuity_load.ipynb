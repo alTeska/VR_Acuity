{
 "cells": [
  {
   "cell_type": "markdown",
   "metadata": {},
   "source": [
    "# VR Acuity Data Analysis \n",
    "Notebook for loading, presenting and first analysis of VR_Acuity_Data"
   ]
  },
  {
   "cell_type": "code",
   "execution_count": 1,
   "metadata": {},
   "outputs": [
    {
     "ename": "FileNotFoundError",
     "evalue": "File datasets/VRAcuityExp_2017-07-13_14-39-17_VR-4A_NIC_clean.h5 does not exist",
     "output_type": "error",
     "traceback": [
      "\u001b[0;31m---------------------------------------------------------------------------\u001b[0m",
      "\u001b[0;31mFileNotFoundError\u001b[0m                         Traceback (most recent call last)",
      "\u001b[0;32m<ipython-input-1-57811cf1d47f>\u001b[0m in \u001b[0;36m<module>\u001b[0;34m()\u001b[0m\n\u001b[1;32m      9\u001b[0m \u001b[0mpath\u001b[0m \u001b[0;34m=\u001b[0m \u001b[0;34m'datasets/'\u001b[0m\u001b[0;34m\u001b[0m\u001b[0m\n\u001b[1;32m     10\u001b[0m \u001b[0mfname\u001b[0m \u001b[0;34m=\u001b[0m \u001b[0;34m'VRAcuityExp_2017-07-13_14-39-17_VR-4A_NIC_clean.h5'\u001b[0m\u001b[0;34m\u001b[0m\u001b[0m\n\u001b[0;32m---> 11\u001b[0;31m \u001b[0mrat_position\u001b[0m \u001b[0;34m=\u001b[0m \u001b[0mpd\u001b[0m\u001b[0;34m.\u001b[0m\u001b[0mread_hdf\u001b[0m\u001b[0;34m(\u001b[0m\u001b[0mpath\u001b[0m\u001b[0;34m+\u001b[0m\u001b[0mfname\u001b[0m\u001b[0;34m,\u001b[0m \u001b[0;34m'/preprocessed/Rigid Body/Rat/Position'\u001b[0m\u001b[0;34m)\u001b[0m\u001b[0;34m\u001b[0m\u001b[0m\n\u001b[0m\u001b[1;32m     12\u001b[0m \u001b[0;34m\u001b[0m\u001b[0m\n\u001b[1;32m     13\u001b[0m \u001b[0mxyz_mean\u001b[0m \u001b[0;34m=\u001b[0m \u001b[0mrat_position\u001b[0m\u001b[0;34m[\u001b[0m\u001b[0;34m[\u001b[0m\u001b[0;34m'X'\u001b[0m\u001b[0;34m,\u001b[0m \u001b[0;34m'Y'\u001b[0m\u001b[0;34m,\u001b[0m \u001b[0;34m'Z'\u001b[0m\u001b[0;34m]\u001b[0m\u001b[0;34m]\u001b[0m\u001b[0;34m.\u001b[0m\u001b[0mmean\u001b[0m\u001b[0;34m(\u001b[0m\u001b[0;34m)\u001b[0m\u001b[0;34m\u001b[0m\u001b[0m\n",
      "\u001b[0;32m/home/ateska/anaconda3/lib/python3.6/site-packages/pandas/io/pytables.py\u001b[0m in \u001b[0;36mread_hdf\u001b[0;34m(path_or_buf, key, mode, **kwargs)\u001b[0m\n\u001b[1;32m    345\u001b[0m         \u001b[0;32mif\u001b[0m \u001b[0;32mnot\u001b[0m \u001b[0mexists\u001b[0m\u001b[0;34m:\u001b[0m\u001b[0;34m\u001b[0m\u001b[0m\n\u001b[1;32m    346\u001b[0m             raise compat.FileNotFoundError(\n\u001b[0;32m--> 347\u001b[0;31m                 'File %s does not exist' % path_or_buf)\n\u001b[0m\u001b[1;32m    348\u001b[0m \u001b[0;34m\u001b[0m\u001b[0m\n\u001b[1;32m    349\u001b[0m         \u001b[0mstore\u001b[0m \u001b[0;34m=\u001b[0m \u001b[0mHDFStore\u001b[0m\u001b[0;34m(\u001b[0m\u001b[0mpath_or_buf\u001b[0m\u001b[0;34m,\u001b[0m \u001b[0mmode\u001b[0m\u001b[0;34m=\u001b[0m\u001b[0mmode\u001b[0m\u001b[0;34m,\u001b[0m \u001b[0;34m**\u001b[0m\u001b[0mkwargs\u001b[0m\u001b[0;34m)\u001b[0m\u001b[0;34m\u001b[0m\u001b[0m\n",
      "\u001b[0;31mFileNotFoundError\u001b[0m: File datasets/VRAcuityExp_2017-07-13_14-39-17_VR-4A_NIC_clean.h5 does not exist"
     ]
    }
   ],
   "source": [
    "import matplotlib.pyplot as plt\n",
    "from mpl_toolkits.mplot3d import Axes3D\n",
    "\n",
    "import numpy as np\n",
    "import pandas as pd\n",
    "import h5py\n",
    "%matplotlib inline\n",
    "\n",
    "path = '../datasets/'\n",
    "fname = 'VRAcuityExp_2017-07-13_14-39-17_VR-4A_NIC_clean.h5'\n",
    "rat_position = pd.read_hdf(path+fname, 'Position')\n",
    "\n",
    "xyz_mean = rat_position[['X', 'Y', 'Z']].mean()\n",
    "print(xyz_mean)"
   ]
  },
  {
   "cell_type": "markdown",
   "metadata": {
    "collapsed": true
   },
   "source": [
    "## Visualization of rat position"
   ]
  },
  {
   "cell_type": "code",
   "execution_count": null,
   "metadata": {},
   "outputs": [],
   "source": [
    "#postition - axes plot in time\n",
    "\n",
    "X, Y, Z = rat_position.X, rat_position.Y, rat_position.Z\n",
    "fig, axes = plt.subplots(3, 1, figsize=(12,12))\n",
    "\n",
    "axes[0].plot(rat_position.Time, X)\n",
    "axes[0].set_ylabel('position')\n",
    "axes[0].set_xlabel('time')\n",
    "axes[0].set_title('X position')\n",
    "\n",
    "axes[1].plot(rat_position.Time, Y, c=\"red\")\n",
    "axes[1].set_xlabel('time')\n",
    "axes[1].set_title('Y position')\n",
    "\n",
    "axes[2].plot(rat_position.Time, Z, c=\"green\")\n",
    "axes[2].set_xlabel('time')\n",
    "axes[2].set_title('Z position')\n"
   ]
  },
  {
   "cell_type": "code",
   "execution_count": null,
   "metadata": {},
   "outputs": [],
   "source": [
    "#2D position scatter plot\n",
    "plt.scatter(X[0:20000], Y[0:20000])\n",
    "\n",
    "fig = plt.figure()\n",
    "#ax = fig.add_subplot(111, polar = 'true')\n",
    "#c = ax.scatter(X, Y)"
   ]
  },
  {
   "cell_type": "code",
   "execution_count": null,
   "metadata": {},
   "outputs": [],
   "source": [
    "#3D position scatter plot\n",
    "fig = plt.figure(figsize=(12,12))\n",
    "ax = fig.add_subplot(111, projection = '3d')\n",
    "ax.scatter(X, Y, Z, c='r')\n",
    "\n",
    "ax.set_xlabel('x axis')\n",
    "ax.set_ylabel('y axis')\n",
    "ax.set_zlabel('z axis')\n"
   ]
  },
  {
   "cell_type": "code",
   "execution_count": null,
   "metadata": {},
   "outputs": [],
   "source": [
    "#3D partial position scatter plot \n",
    "r_stop = 1000\n",
    "X, Y, Z = rat_position.X[0:r_stop], rat_position.Y[0:r_stop], rat_position.Z[0:r_stop]\n",
    "\n",
    "fig = plt.figure(figsize=(12,12))\n",
    "ax = fig.add_subplot(111, projection = '3d')\n",
    "ax.scatter(X, Y, Z, c='r')\n",
    "\n",
    "ax.set_xlabel('x axis')\n",
    "ax.set_ylabel('y axis')\n",
    "ax.set_zlabel('z axis')"
   ]
  },
  {
   "cell_type": "markdown",
   "metadata": {},
   "source": [
    "## Rotation"
   ]
  },
  {
   "cell_type": "code",
   "execution_count": null,
   "metadata": {},
   "outputs": [],
   "source": [
    "rat_rotation = pd.read_hdf(path+fname, '/preprocessed/Rigid Body/Rat/Rotation')\n",
    "r_stop = 1000\n",
    "\n",
    "X, Y, Z = rat_rotation.X[0:r_stop], rat_rotation.Y[0:r_stop], rat_rotation.Z[0:r_stop]\n",
    "\n",
    "fig = plt.figure(figsize=(12,12))\n",
    "ax = fig.add_subplot(111, projection = '3d')\n",
    "ax.scatter(X, Y, Z, c='g')\n",
    "\n",
    "ax.set_xlabel('x axis')\n",
    "ax.set_ylabel('y axis')\n",
    "ax.set_zlabel('z axis')"
   ]
  },
  {
   "cell_type": "code",
   "execution_count": null,
   "metadata": {},
   "outputs": [],
   "source": [
    "#plotting head roatation in Y axis\n",
    "fig = plt.figure(figsize=(12,12))\n",
    "ax = fig.add_subplot(111, polar = 'true')\n",
    "\n",
    "c = ax.scatter(rat_rotation.Time, rat_rotation.Y)"
   ]
  },
  {
   "cell_type": "markdown",
   "metadata": {},
   "source": [
    "## Rotation during events"
   ]
  },
  {
   "cell_type": "code",
   "execution_count": null,
   "metadata": {},
   "outputs": [],
   "source": [
    "#Rotation of the head for single stimulation event\n",
    "\n",
    "#Event location for data minimization\n",
    "eventLog     = pd.read_hdf(path+fname, '/events/eventlog')\n",
    "#eventNames  = pd.read_hdf(path+fname, '/events/eventNames')\n",
    "\n",
    "start = eventLog.Time[4]\n",
    "stop  = eventLog.Time[5]\n",
    "\n",
    "print(len(rat_rotation.Time))\n",
    "#print(rat_rotation.Time[2000])\n",
    "\n",
    "\n",
    "for i,x in enumerate(rat_rotation.Time):\n",
    "    if x == start:\n",
    "        start_index = i\n",
    "\n",
    "for i,x in enumerate(rat_rotation.Time):\n",
    "    if x == stop:\n",
    "        stop_index = i\n",
    "        \n",
    "        \n",
    "fig = plt.figure(figsize=(12,12))\n",
    "ax = fig.add_subplot(111, polar = 'true')\n",
    "c = ax.scatter(rat_rotation.Time[start_index:stop_index], rat_rotation.Y[start_index:stop_index])\n",
    "\n"
   ]
  }
 ],
 "metadata": {
  "kernelspec": {
   "display_name": "Python 3",
   "language": "python",
   "name": "python3"
  },
  "language_info": {
   "codemirror_mode": {
    "name": "ipython",
    "version": 3
   },
   "file_extension": ".py",
   "mimetype": "text/x-python",
   "name": "python",
   "nbconvert_exporter": "python",
   "pygments_lexer": "ipython3",
   "version": "3.6.3"
  }
 },
 "nbformat": 4,
 "nbformat_minor": 2
}
