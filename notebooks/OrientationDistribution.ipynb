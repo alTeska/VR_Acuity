{
 "cells": [
  {
   "cell_type": "markdown",
   "metadata": {},
   "source": [
    "# Data distribution analysis\n",
    "\n",
    "Notebook for analysis of data distribution."
   ]
  },
  {
   "cell_type": "code",
   "execution_count": null,
   "metadata": {},
   "outputs": [],
   "source": [
    "import numpy as np\n",
    "import pandas as pd\n",
    "from scipy import stats, integrate\n",
    "import matplotlib.pyplot as plt\n",
    "import seaborn as sns\n",
    "\n",
    "%matplotlib inline\n",
    "sns.set(color_codes=True)\n",
    "\n",
    "\n",
    "fnameClean = [\n",
    "    'VRAcuityExp_2017-07-13_14-39-17_VR-4A_NIC_clean.h5',\n",
    "    'VRAcuityExp_2017-07-13_15-05-16_VR-2B_NIC_clean.h5',\n",
    "    'VRAcuityExp_2017-07-13_15-19-09_VR-2A_EDU_clean.h5',\n",
    "    'VRAcuityExp_2017-07-13_15-38-34_VR-1A_NIC_clean.h5',\n",
    "    'VRAcuityExp_2017-07-13_15-53-40_VR-1B_NIC_clean.h5',\n",
    "    'VRAcuityExp_2017-07-13_16-11-46_VR-3A_NIC_clean.h5',\n",
    "    'VRAcuityExp_2017-07-13_16-27-08_VR-3A_NIC_clean.h5',\n",
    "    'VRAcuityExp_2017-07-13_17-09-07_VR-5A_NIC_clean.h5', ]\n",
    "\n",
    "path = '../VR_Acuity_Data/datasets/'\n",
    "keyPass = 'Orientation'\n",
    "\n",
    "#position cleaned data loading\n",
    "#df = pd.read_hdf(path+'data_all.h5', keyPass)\n",
    "df = pd.read_hdf(path+fnameClean[1], keyPass)\n"
   ]
  },
  {
   "cell_type": "markdown",
   "metadata": {},
   "source": [
    "## Distributions of X, Y, Z orientation for one experiment"
   ]
  },
  {
   "cell_type": "code",
   "execution_count": null,
   "metadata": {
    "scrolled": false
   },
   "outputs": [],
   "source": [
    "# Univariate distributions\n",
    "fig = plt.figure(figsize=(9,9))\n",
    "ax1 = fig.add_subplot(311)\n",
    "ax2 = fig.add_subplot(312)\n",
    "ax3 = fig.add_subplot(313)\n",
    "\n",
    "sns.distplot(df.X, ax=ax1)\n",
    "sns.distplot(df.Y, ax=ax2)\n",
    "sns.distplot(df.Z, ax=ax3)\n"
   ]
  },
  {
   "cell_type": "code",
   "execution_count": null,
   "metadata": {},
   "outputs": [],
   "source": [
    "# bivariate distributions\n",
    "sns.jointplot(x=\"X\", y=\"Z\", data=df);"
   ]
  },
  {
   "cell_type": "code",
   "execution_count": null,
   "metadata": {},
   "outputs": [],
   "source": [
    "fig = plt.figure(figsize=(12,12))\n",
    "sns.pairplot(df, vars=['X', 'Y', 'Z'])"
   ]
  },
  {
   "cell_type": "markdown",
   "metadata": {},
   "source": [
    "## Distributions of X, Y, Z orientation for all experiments comparison"
   ]
  },
  {
   "cell_type": "code",
   "execution_count": null,
   "metadata": {},
   "outputs": [],
   "source": [
    "# load data\n",
    "df_tbl = {}\n",
    "for i, x in enumerate(fnameClean):\n",
    "    df_tbl[i] = pd.read_hdf(path+fnameClean[i], keyPass)\n",
    "\n",
    "# Univariat positions X,Y,Z of all experiments\n",
    "fig = plt.figure(figsize=(9,12))\n",
    "ax1 = fig.add_subplot(311)\n",
    "ax2 = fig.add_subplot(312)\n",
    "ax3 = fig.add_subplot(313)\n",
    "    \n",
    "for i, x in enumerate(fnameClean):\n",
    "    sns.distplot(df_tbl[i].X, ax=ax1)\n",
    "for i, x in enumerate(fnameClean):\n",
    "    sns.distplot(df_tbl[i].Y, ax=ax2)\n",
    "for i, x in enumerate(fnameClean):\n",
    "    sns.distplot(df_tbl[i].Z, ax=ax3)"
   ]
  }
 ],
 "metadata": {
  "kernelspec": {
   "display_name": "Python 3",
   "language": "python",
   "name": "python3"
  },
  "language_info": {
   "codemirror_mode": {
    "name": "ipython",
    "version": 3
   },
   "file_extension": ".py",
   "mimetype": "text/x-python",
   "name": "python",
   "nbconvert_exporter": "python",
   "pygments_lexer": "ipython3",
   "version": "3.6.3"
  }
 },
 "nbformat": 4,
 "nbformat_minor": 2
}
