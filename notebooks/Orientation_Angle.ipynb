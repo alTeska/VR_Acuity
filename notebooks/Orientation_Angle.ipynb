{
 "cells": [
  {
   "cell_type": "markdown",
   "metadata": {},
   "source": [
    "#  Orientation data - angle analysis \n",
    "Analysis of the angles in 2D, then possibly 3D.\n",
    "Goal: find angular velocity to compare with event log. "
   ]
  },
  {
   "cell_type": "code",
   "execution_count": 1,
   "metadata": {
    "collapsed": true
   },
   "outputs": [],
   "source": [
    "import sys\n",
    "import matplotlib.pyplot as plt\n",
    "import numpy as np\n",
    "import pandas as pd\n",
    "\n",
    "%matplotlib inline\n",
    "%matplotlib notebook\n",
    "\n",
    "# loading data\n",
    "dfOri = {}\n",
    "\n",
    "fnameClean = [\n",
    "    'VRAcuityExp_2017-07-13_14-39-17_VR-4A_NIC_clean.h5',\n",
    "    'VRAcuityExp_2017-07-13_15-05-16_VR-2B_NIC_clean.h5',\n",
    "    'VRAcuityExp_2017-07-13_15-19-09_VR-2A_EDU_clean.h5',\n",
    "    'VRAcuityExp_2017-07-13_15-38-34_VR-1A_NIC_clean.h5',\n",
    "    'VRAcuityExp_2017-07-13_15-53-40_VR-1B_NIC_clean.h5',\n",
    "    'VRAcuityExp_2017-07-13_16-11-46_VR-3A_NIC_clean.h5',\n",
    "    'VRAcuityExp_2017-07-13_16-27-08_VR-3A_NIC_clean.h5',\n",
    "    'VRAcuityExp_2017-07-13_17-09-07_VR-5A_NIC_clean.h5', ]\n",
    "\n",
    "path = '../datasets/'\n",
    "\n",
    "for i, x in enumerate(fnameClean):\n",
    "    dfOri[i] = pd.read_hdf(path+fnameClean[i], 'Orientation')\n",
    "    "
   ]
  },
  {
   "cell_type": "code",
   "execution_count": 2,
   "metadata": {},
   "outputs": [],
   "source": [
    "def angle_vec(V1, V2):\n",
    "    CosTheta = np.dot(V1,V2) / (np.linalg.norm(V1) * np.linalg.norm(V2))\n",
    "    Theta = np.arccos(CosTheta)\n",
    "    return CosTheta, Theta\n",
    "\n",
    "def decompose_vec(X, Y, Z):\n",
    "    # get two vectors aligned with Y and Z axes\n",
    "    Vo = np.array([X, Y, Z])  \n",
    "    Vz = np.array([X, Y, 0])  \n",
    "    #Vy = np.array([X, 0, Z])\n",
    "    Vx = np.array([0, Y, Z])\n",
    "\n",
    "    # find the angles between them and orientation vector \n",
    "    LenghtVz, alpha = angle_vec(Vo, Vz)\n",
    "    #LenghtVy, beta  = angle_vec(Vo, Vy)\n",
    "    LenghtVx, gamma = angle_vec(Vo, Vx)\n",
    " \n",
    "    return LenghtVx, 0, LenghtVz\n",
    "\n",
    "def compute_angle(df):\n",
    "    next_df = df.shift(1)\n",
    "    V1 = np.array(df.lenght)\n",
    "    V2 = np.array(next_df.lenght)\n",
    "    print('V1', V1)\n",
    "    print('V2', V2)\n",
    "    return angle_vec_list(V1, V2)\n",
    "\n",
    "dfV = {}\n",
    "\n",
    "# extraction of positon and time changes\n",
    "for i, x in enumerate(fnameClean):\n",
    "    dfV[i] = dfOri[i].diff().dropna()\n",
    "    dfOri[i]['dT'] = dfV[i].Time\n"
   ]
  },
  {
   "cell_type": "code",
   "execution_count": null,
   "metadata": {
    "scrolled": true
   },
   "outputs": [],
   "source": [
    "i = 1\n",
    "df = dfOri[2]\n",
    "#Vxz  = decompose_vec(df.X[i]  , df.Y[i]  , df.Z[i])\n",
    "#Vxz1 = decompose_vec(df.X[i+1], df.Y[i+1], df.Z[i+1])\n",
    "#cosTheta, theta = angle_vec(Vxz, Vxz1)\n",
    "#U = theta/df.dT[i]\n",
    "#print(U)\n",
    "\n",
    "df['vec'] = df.apply(lambda row: decompose_vec(row.X, row.Y, row.Z) , axis=1)\n",
    "df.dropna(inplace=True)\n",
    "\n",
    "# ADD FRAME, ADD dT, based on that -> U\n",
    "dfV = dfOri[2]\n",
    "dfV['vec']   = dfV.apply(lambda row: decompose_vec(row.X, row.Y, row.Z) , axis=1)\n",
    "dfV['vec1']  = dfV.vec.shift(1)\n",
    "dfV['theta'] = dfV.apply(lambda row: angle_vec(row.vec, row.vec1) , axis=1).dropna()\n",
    "#dfV['U']     = dfV.apply(lambda row: np.absolute(row.theta[1]) / row.dT, axis=1)\n",
    "#dfV = dfV.drop(['X','Y','Z']).dropna()\n",
    "dfV = dfV.dropna()\n",
    "\n",
    "print(dfV.keys())\n",
    "\n",
    "#for i, x in enumerate(fnameClean):\n",
    "#    dfOri[i]['lenght'] = dfOri[i].apply(lambda row:decompose_vec(row.X, row.Y, row.Z) , axis=1)\n"
   ]
  },
  {
   "cell_type": "code",
   "execution_count": 30,
   "metadata": {},
   "outputs": [
    {
     "name": "stdout",
     "output_type": "stream",
     "text": [
      "Index(['Frame', 'Time', 'X', 'Y', 'Z', 'dT', 'vec', 'vec1', 'theta', 'U'], dtype='object')\n"
     ]
    },
    {
     "name": "stderr",
     "output_type": "stream",
     "text": [
      "/home/ateska/anaconda3/lib/python3.6/site-packages/ipykernel_launcher.py:2: SettingWithCopyWarning: \n",
      "A value is trying to be set on a copy of a slice from a DataFrame.\n",
      "Try using .loc[row_indexer,col_indexer] = value instead\n",
      "\n",
      "See the caveats in the documentation: http://pandas.pydata.org/pandas-docs/stable/indexing.html#indexing-view-versus-copy\n",
      "  \n"
     ]
    }
   ],
   "source": [
    "dfV['theta'] = dfV.apply(lambda row: row.theta.str[1] , axis=1).dropna()\n",
    "\n",
    "#print(dfV.theta.str[1])\n",
    "#dfV['U']     = dfV.apply(lambda row: np.absolute(row.theta) / row.dT, axis=1)\n",
    "#print(dfV.keys())\n"
   ]
  },
  {
   "cell_type": "code",
   "execution_count": 26,
   "metadata": {},
   "outputs": [
    {
     "ename": "ValueError",
     "evalue": "labels ['X'] not contained in axis",
     "output_type": "error",
     "traceback": [
      "\u001b[0;31m---------------------------------------------------------------------------\u001b[0m",
      "\u001b[0;31mValueError\u001b[0m                                Traceback (most recent call last)",
      "\u001b[0;32m<ipython-input-26-df8da75b86e4>\u001b[0m in \u001b[0;36m<module>\u001b[0;34m()\u001b[0m\n\u001b[0;32m----> 1\u001b[0;31m \u001b[0mdfV\u001b[0m \u001b[0;34m=\u001b[0m \u001b[0mdfV\u001b[0m\u001b[0;34m.\u001b[0m\u001b[0mdrop\u001b[0m\u001b[0;34m(\u001b[0m\u001b[0;34m'X'\u001b[0m\u001b[0;34m)\u001b[0m\u001b[0;34m\u001b[0m\u001b[0m\n\u001b[0m",
      "\u001b[0;32m/home/ateska/anaconda3/lib/python3.6/site-packages/pandas/core/generic.py\u001b[0m in \u001b[0;36mdrop\u001b[0;34m(self, labels, axis, index, columns, level, inplace, errors)\u001b[0m\n\u001b[1;32m   2528\u001b[0m         \u001b[0;32mfor\u001b[0m \u001b[0maxis\u001b[0m\u001b[0;34m,\u001b[0m \u001b[0mlabels\u001b[0m \u001b[0;32min\u001b[0m \u001b[0maxes\u001b[0m\u001b[0;34m.\u001b[0m\u001b[0mitems\u001b[0m\u001b[0;34m(\u001b[0m\u001b[0;34m)\u001b[0m\u001b[0;34m:\u001b[0m\u001b[0;34m\u001b[0m\u001b[0m\n\u001b[1;32m   2529\u001b[0m             \u001b[0;32mif\u001b[0m \u001b[0mlabels\u001b[0m \u001b[0;32mis\u001b[0m \u001b[0;32mnot\u001b[0m \u001b[0;32mNone\u001b[0m\u001b[0;34m:\u001b[0m\u001b[0;34m\u001b[0m\u001b[0m\n\u001b[0;32m-> 2530\u001b[0;31m                 \u001b[0mobj\u001b[0m \u001b[0;34m=\u001b[0m \u001b[0mobj\u001b[0m\u001b[0;34m.\u001b[0m\u001b[0m_drop_axis\u001b[0m\u001b[0;34m(\u001b[0m\u001b[0mlabels\u001b[0m\u001b[0;34m,\u001b[0m \u001b[0maxis\u001b[0m\u001b[0;34m,\u001b[0m \u001b[0mlevel\u001b[0m\u001b[0;34m=\u001b[0m\u001b[0mlevel\u001b[0m\u001b[0;34m,\u001b[0m \u001b[0merrors\u001b[0m\u001b[0;34m=\u001b[0m\u001b[0merrors\u001b[0m\u001b[0;34m)\u001b[0m\u001b[0;34m\u001b[0m\u001b[0m\n\u001b[0m\u001b[1;32m   2531\u001b[0m \u001b[0;34m\u001b[0m\u001b[0m\n\u001b[1;32m   2532\u001b[0m         \u001b[0;32mif\u001b[0m \u001b[0minplace\u001b[0m\u001b[0;34m:\u001b[0m\u001b[0;34m\u001b[0m\u001b[0m\n",
      "\u001b[0;32m/home/ateska/anaconda3/lib/python3.6/site-packages/pandas/core/generic.py\u001b[0m in \u001b[0;36m_drop_axis\u001b[0;34m(self, labels, axis, level, errors)\u001b[0m\n\u001b[1;32m   2560\u001b[0m                 \u001b[0mnew_axis\u001b[0m \u001b[0;34m=\u001b[0m \u001b[0maxis\u001b[0m\u001b[0;34m.\u001b[0m\u001b[0mdrop\u001b[0m\u001b[0;34m(\u001b[0m\u001b[0mlabels\u001b[0m\u001b[0;34m,\u001b[0m \u001b[0mlevel\u001b[0m\u001b[0;34m=\u001b[0m\u001b[0mlevel\u001b[0m\u001b[0;34m,\u001b[0m \u001b[0merrors\u001b[0m\u001b[0;34m=\u001b[0m\u001b[0merrors\u001b[0m\u001b[0;34m)\u001b[0m\u001b[0;34m\u001b[0m\u001b[0m\n\u001b[1;32m   2561\u001b[0m             \u001b[0;32melse\u001b[0m\u001b[0;34m:\u001b[0m\u001b[0;34m\u001b[0m\u001b[0m\n\u001b[0;32m-> 2562\u001b[0;31m                 \u001b[0mnew_axis\u001b[0m \u001b[0;34m=\u001b[0m \u001b[0maxis\u001b[0m\u001b[0;34m.\u001b[0m\u001b[0mdrop\u001b[0m\u001b[0;34m(\u001b[0m\u001b[0mlabels\u001b[0m\u001b[0;34m,\u001b[0m \u001b[0merrors\u001b[0m\u001b[0;34m=\u001b[0m\u001b[0merrors\u001b[0m\u001b[0;34m)\u001b[0m\u001b[0;34m\u001b[0m\u001b[0m\n\u001b[0m\u001b[1;32m   2563\u001b[0m             \u001b[0mdropped\u001b[0m \u001b[0;34m=\u001b[0m \u001b[0mself\u001b[0m\u001b[0;34m.\u001b[0m\u001b[0mreindex\u001b[0m\u001b[0;34m(\u001b[0m\u001b[0;34m**\u001b[0m\u001b[0;34m{\u001b[0m\u001b[0maxis_name\u001b[0m\u001b[0;34m:\u001b[0m \u001b[0mnew_axis\u001b[0m\u001b[0;34m}\u001b[0m\u001b[0;34m)\u001b[0m\u001b[0;34m\u001b[0m\u001b[0m\n\u001b[1;32m   2564\u001b[0m             \u001b[0;32mtry\u001b[0m\u001b[0;34m:\u001b[0m\u001b[0;34m\u001b[0m\u001b[0m\n",
      "\u001b[0;32m/home/ateska/anaconda3/lib/python3.6/site-packages/pandas/core/indexes/base.py\u001b[0m in \u001b[0;36mdrop\u001b[0;34m(self, labels, errors)\u001b[0m\n\u001b[1;32m   3742\u001b[0m             \u001b[0;32mif\u001b[0m \u001b[0merrors\u001b[0m \u001b[0;34m!=\u001b[0m \u001b[0;34m'ignore'\u001b[0m\u001b[0;34m:\u001b[0m\u001b[0;34m\u001b[0m\u001b[0m\n\u001b[1;32m   3743\u001b[0m                 raise ValueError('labels %s not contained in axis' %\n\u001b[0;32m-> 3744\u001b[0;31m                                  labels[mask])\n\u001b[0m\u001b[1;32m   3745\u001b[0m             \u001b[0mindexer\u001b[0m \u001b[0;34m=\u001b[0m \u001b[0mindexer\u001b[0m\u001b[0;34m[\u001b[0m\u001b[0;34m~\u001b[0m\u001b[0mmask\u001b[0m\u001b[0;34m]\u001b[0m\u001b[0;34m\u001b[0m\u001b[0m\n\u001b[1;32m   3746\u001b[0m         \u001b[0;32mreturn\u001b[0m \u001b[0mself\u001b[0m\u001b[0;34m.\u001b[0m\u001b[0mdelete\u001b[0m\u001b[0;34m(\u001b[0m\u001b[0mindexer\u001b[0m\u001b[0;34m)\u001b[0m\u001b[0;34m\u001b[0m\u001b[0m\n",
      "\u001b[0;31mValueError\u001b[0m: labels ['X'] not contained in axis"
     ]
    }
   ],
   "source": [
    "dfV.drop({'X','Y','Z'}, axis=1, inplace=True)"
   ]
  },
  {
   "cell_type": "code",
   "execution_count": 41,
   "metadata": {},
   "outputs": [
    {
     "name": "stdout",
     "output_type": "stream",
     "text": [
      "(1, 2)\n"
     ]
    }
   ],
   "source": [
    "def f():\n",
    "    return 1,2\n",
    "(val) = f()\n",
    "print(val)"
   ]
  }
 ],
 "metadata": {
  "kernelspec": {
   "display_name": "Python 3",
   "language": "python",
   "name": "python3"
  },
  "language_info": {
   "codemirror_mode": {
    "name": "ipython",
    "version": 3
   },
   "file_extension": ".py",
   "mimetype": "text/x-python",
   "name": "python",
   "nbconvert_exporter": "python",
   "pygments_lexer": "ipython3",
   "version": "3.6.3"
  }
 },
 "nbformat": 4,
 "nbformat_minor": 2
}
