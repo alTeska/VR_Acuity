{
 "cells": [
  {
   "cell_type": "markdown",
   "metadata": {},
   "source": [
    "# Head Velocity\n",
    "Notebook for clean attempt of checking the distribution of head velocit and stimulus related behavior of the animal."
   ]
  },
  {
   "cell_type": "code",
   "execution_count": 2,
   "metadata": {},
   "outputs": [],
   "source": [
    "# data loading\n",
    "import numpy as np\n",
    "import pandas as pd\n",
    "import matplotlib.pyplot as plt\n",
    "import seaborn as sns\n",
    "from mpl_toolkits.mplot3d import Axes3D\n",
    "from scipy import stats, integrate\n",
    "\n",
    "%matplotlib inline\n",
    "sns.set(color_codes=True)\n",
    "\n",
    "path = '../datasets/'\n",
    "\n",
    "dfrat     = pd.read_hdf(path+'relationalDatabase.h5', 'Rat_Behavior').set_index('index')\n",
    "dfevent   = pd.read_hdf(path+'relationalDatabase.h5', 'Events').set_index('index')\n",
    "dfsession = pd.read_hdf(path+'relationalDatabase.h5', 'Sessions').set_index('index')"
   ]
  },
  {
   "cell_type": "code",
   "execution_count": 3,
   "metadata": {},
   "outputs": [],
   "source": [
    "# in use functions\n",
    "def angle_cos(V1, V2):\n",
    "    CosTheta = np.dot(V1,V2) / (np.linalg.norm(V1) * np.linalg.norm(V2))\n",
    "    return CosTheta\n",
    "\n",
    "\n",
    "def angle_zero(df):\n",
    "    V1 = np.array([df.lx1, 0, df.lz1])\n",
    "    V2 = np.array([1     , 0, 0     ])\n",
    "    CosTheta = np.dot(V1,V2) / (np.linalg.norm(V1) * np.linalg.norm(V2))\n",
    "    df['theta0'] = np.arccos(CosTheta)\n",
    "    return df\n",
    "\n",
    "\n",
    "def decompose_vec_df(df):\n",
    "    # get two vectors aligned with Y and Z axes\n",
    "    Vo = np.array([df.X_Ori, df.Y_Ori, df.Z_Ori])  \n",
    "    Vz = np.array([df.X_Ori, df.Y_Ori, 0       ])  \n",
    "    Vx = np.array([0       , df.Y_Ori, df.Z_Ori])\n",
    "\n",
    "    # find the angles between them and orientation vector \n",
    "    df['lx1'] = angle_cos(Vo, Vz)\n",
    "    df['lz1'] = angle_cos(Vo, Vx)\n",
    "    return df\n"
   ]
  },
  {
   "cell_type": "code",
   "execution_count": null,
   "metadata": {},
   "outputs": [],
   "source": [
    "# calculating lenghts of VecX and VecZ and creation of shifted vectors\n",
    "dfrat = dfrat.apply(decompose_vec_df, axis=1)\n",
    "\n",
    "# propagate the sign of a X, Z to new vector\n",
    "dfrat['lx1'] = dfrat.apply(lambda row: row.lx1 * (row.X_Ori / np.absolute(row.X_Ori)), axis=1)\n",
    "dfrat['lz1'] = dfrat.apply(lambda row: row.lz1 * (row.Z_Ori / np.absolute(row.Z_Ori)), axis=1)\n",
    "\n",
    "# normalize the data to unit vector form\n",
    "dfrat['V1'] = np.linalg.norm(np.array([dfrat.lx1, 0, dfrat.lz1]))\n",
    "dfrat['lx1'] = dfrat.apply(lambda row: row.lx1 / row.V1, axis=1)\n",
    "dfrat['lz1'] = dfrat.apply(lambda row: row.lz1 / row.V1, axis=1)\n",
    "\n",
    "dfV.dropna(inplace=True)\n"
   ]
  }
 ],
 "metadata": {
  "kernelspec": {
   "display_name": "Python 3",
   "language": "python",
   "name": "python3"
  },
  "language_info": {
   "codemirror_mode": {
    "name": "ipython",
    "version": 3
   },
   "file_extension": ".py",
   "mimetype": "text/x-python",
   "name": "python",
   "nbconvert_exporter": "python",
   "pygments_lexer": "ipython3",
   "version": "3.6.3"
  }
 },
 "nbformat": 4,
 "nbformat_minor": 2
}
