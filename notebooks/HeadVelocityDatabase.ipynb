{
 "cells": [
  {
   "cell_type": "markdown",
   "metadata": {},
   "source": [
    "# Head Velocity\n",
    "Notebook for clean attempt of checking the distribution of head velocit and stimulus related behavior of the animal."
   ]
  },
  {
   "cell_type": "code",
   "execution_count": 2,
   "metadata": {},
   "outputs": [],
   "source": [
    "# data loading\n",
    "import numpy as np\n",
    "import pandas as pd\n",
    "import matplotlib.pyplot as plt\n",
    "import seaborn as sns\n",
    "from mpl_toolkits.mplot3d import Axes3D\n",
    "from scipy import stats, integrate\n",
    "\n",
    "%matplotlib inline\n",
    "sns.set(color_codes=True)\n",
    "\n",
    "path = '../datasets/'\n",
    "dfrat     = pd.read_hdf(path+'relationalDatabase.h5', 'Rat_Behavior').set_index('index')\n",
    "dfevent   = pd.read_hdf(path+'relationalDatabase.h5', 'Events').set_index('index')\n",
    "dfsession = pd.read_hdf(path+'relationalDatabase.h5', 'Sessions').set_index('index')"
   ]
  },
  {
   "cell_type": "code",
   "execution_count": 3,
   "metadata": {},
   "outputs": [],
   "source": [
    "# in use functions\n",
    "def angle_cos(V1, V2):\n",
    "    CosTheta = np.dot(V1,V2) / (np.linalg.norm(V1) * np.linalg.norm(V2))\n",
    "    return CosTheta\n",
    "\n",
    "\n",
    "def angle_zero(df):\n",
    "    V1 = np.array([df.lx1, 0, df.lz1])\n",
    "    V2 = np.array([1     , 0, 0     ])\n",
    "    df['theta0'] = np.arccos(angle_cos(V1,V2))\n",
    "    return df\n",
    "\n",
    "\n",
    "def decompose_vec_df(df):\n",
    "    # get two vectors aligned with Y and Z axes\n",
    "    Vo = np.array([df.X_Ori, df.Y_Ori, df.Z_Ori])  \n",
    "    Vz = np.array([df.X_Ori, df.Y_Ori, 0       ])  \n",
    "    Vx = np.array([0       , df.Y_Ori, df.Z_Ori])\n",
    "\n",
    "    # find the angles between them and orientation vector \n",
    "    df['lx1'] = angle_cos(Vo, Vz)\n",
    "    df['lz1'] = angle_cos(Vo, Vx)\n",
    "    return df\n"
   ]
  },
  {
   "cell_type": "markdown",
   "metadata": {},
   "source": [
    "## Angular velocity calculations\n",
    "Calculating vectors, angle, velocity for comparison."
   ]
  },
  {
   "cell_type": "code",
   "execution_count": 4,
   "metadata": {},
   "outputs": [
    {
     "name": "stdout",
     "output_type": "stream",
     "text": [
      "0\n",
      "1\n",
      "2\n",
      "3\n",
      "4\n",
      "5\n",
      "6\n",
      "7\n"
     ]
    }
   ],
   "source": [
    "pd.options.mode.chained_assignment = None \n",
    "\n",
    "## VECTORS WITHOUT Y\n",
    "dfOri = pd.DataFrame()\n",
    "dfV = dfrat.copy()\n",
    "\n",
    "for name, dd in dfV.groupby('session_id'):\n",
    "    print(name)\n",
    "    \n",
    "    dd['dT'] = dd['Time'].diff(-1)    \n",
    "    \n",
    "    # calculating lenghts of VecX and VecZ and creation of shifted vectors  #dd = dd.apply(decompose_vec_df, axis=1)\n",
    "    dd['zero'] = dd.X_Ori * 0\n",
    "    Vo = np.array([dd.X_Ori, dd.Y_Ori, dd.Z_Ori])  \n",
    "    Vz = np.array([dd.X_Ori, dd.Y_Ori, dd.zero ])  \n",
    "    Vx = np.array([dd.zero , dd.Y_Ori, dd.Z_Ori])\n",
    "    \n",
    "    dd['lVx'] = np.linalg.norm(Vo) * np.linalg.norm(Vx)\n",
    "    dd['lVz'] = np.linalg.norm(Vo) * np.linalg.norm(Vz)\n",
    "    \n",
    "    dd['dx1'] =        0*dd.X_Ori + dd.Y_Ori*dd.Y_Ori + dd.Z_Ori*dd.Z_Ori\n",
    "    dd['dz1'] = dd.X_Ori*dd.X_Ori + dd.Y_Ori*dd.Y_Ori +        0*dd.Z_Ori\n",
    "    dd['lx1'] = dd['dx1'] / dd['lVx']\n",
    "    dd['lz1'] = dd['dz1'] / dd['lVz']\n",
    "        \n",
    "    # propagate the sign of a X, Z to new vector\n",
    "    dd['lx1'] = dd['lx1'] * (dd['X_Ori'] / np.absolute(dd['X_Ori']))\n",
    "    dd['lz1'] = dd['lz1'] * (dd['Z_Ori'] / np.absolute(dd['Z_Ori']))\n",
    "\n",
    "    # normalize the data to unit vector form\n",
    "    dd['V1'] = np.linalg.norm(np.array([dd.lx1, 0, dd.lz1]))\n",
    "    dd['lx1'] = dd.lx1 / dd.V1\n",
    "    dd['lz1'] = dd.lz1 / dd.V1\n",
    "\n",
    "    dfOri = pd.concat([dfOri, dd], axis=0, ignore_index=True)\n",
    "\n",
    "dfOri = dfOri.replace([np.inf, -np.inf], np.nan).dropna()\n"
   ]
  },
  {
   "cell_type": "code",
   "execution_count": 5,
   "metadata": {},
   "outputs": [
    {
     "name": "stdout",
     "output_type": "stream",
     "text": [
      "0\n",
      "1\n",
      "2\n",
      "3\n",
      "4\n",
      "5\n",
      "6\n",
      "7\n"
     ]
    }
   ],
   "source": [
    "## ANGLES and VELOCITY\n",
    "dfOri2 = pd.DataFrame()\n",
    "\n",
    "# calculatinig the angles between X axis and the vectors\n",
    "for name, dd in dfOri.groupby('session_id'):\n",
    "    print(name)\n",
    "    \n",
    "#     dd = dd.apply(angle_zero, axis=1) # calculation with origin\n",
    "    V1 = np.array([dd.lx1, 0, dd.lz1])\n",
    "    V2 = np.array([1     , 0, 0     ])\n",
    "    \n",
    "    dd['theta0'] = np.arccos(dd.lx1 / (np.linalg.norm(V1) * np.linalg.norm(V2)))\n",
    "    \n",
    "    dd['theta1'] = dd.theta0.shift(1)\n",
    "    dd['theta']  = dd.theta0 - dd.theta1\n",
    "    dd.drop({'theta0','theta1'}, axis=1, inplace=True)\n",
    "    \n",
    "    # angular velocity between two vectors\n",
    "    dd['U'] = np.degrees(dd.theta)/ dd.dT\n",
    "    \n",
    "    dfOri2 = pd.concat([dfOri2, dd], axis=0, ignore_index=True)\n",
    "    \n",
    "dfOri2 = dfOri2.replace([np.inf, -np.inf], np.nan).dropna()\n"
   ]
  },
  {
   "cell_type": "markdown",
   "metadata": {},
   "source": [
    "## Stimulus-related behavior\n",
    "Looking for frames detected as SRB.\n",
    "\n",
    "SRB = {f E FRAMES: ||Vhead - Vstim|| < Dmax}"
   ]
  },
  {
   "cell_type": "code",
   "execution_count": 1,
   "metadata": {},
   "outputs": [
    {
     "ename": "NameError",
     "evalue": "name 'pd' is not defined",
     "output_type": "error",
     "traceback": [
      "\u001b[0;31m---------------------------------------------------------------------------\u001b[0m",
      "\u001b[0;31mNameError\u001b[0m                                 Traceback (most recent call last)",
      "\u001b[0;32m<ipython-input-1-d9f4bc97a5da>\u001b[0m in \u001b[0;36m<module>\u001b[0;34m()\u001b[0m\n\u001b[1;32m      1\u001b[0m \u001b[0;31m## COMPARISON WITH EVENT DATA\u001b[0m\u001b[0;34m\u001b[0m\u001b[0;34m\u001b[0m\u001b[0m\n\u001b[0;32m----> 2\u001b[0;31m \u001b[0mdfOri3\u001b[0m \u001b[0;34m=\u001b[0m \u001b[0mpd\u001b[0m\u001b[0;34m.\u001b[0m\u001b[0mDataFrame\u001b[0m\u001b[0;34m(\u001b[0m\u001b[0;34m)\u001b[0m\u001b[0;34m\u001b[0m\u001b[0m\n\u001b[0m\u001b[1;32m      3\u001b[0m \u001b[0mDmaxPerc\u001b[0m \u001b[0;34m=\u001b[0m \u001b[0;36m0.2\u001b[0m\u001b[0;34m\u001b[0m\u001b[0m\n\u001b[1;32m      4\u001b[0m \u001b[0;34m\u001b[0m\u001b[0m\n\u001b[1;32m      5\u001b[0m \u001b[0mdfeventsClean\u001b[0m \u001b[0;34m=\u001b[0m \u001b[0mdfevent\u001b[0m\u001b[0;34m.\u001b[0m\u001b[0mdrop\u001b[0m\u001b[0;34m(\u001b[0m\u001b[0;34m{\u001b[0m\u001b[0;34m'MotiveExpTimeSecs'\u001b[0m\u001b[0;34m,\u001b[0m \u001b[0;34m'session_id'\u001b[0m\u001b[0;34m,\u001b[0m\u001b[0;34m'Time'\u001b[0m\u001b[0;34m}\u001b[0m\u001b[0;34m,\u001b[0m \u001b[0maxis\u001b[0m\u001b[0;34m=\u001b[0m\u001b[0;36m1\u001b[0m\u001b[0;34m)\u001b[0m\u001b[0;34m\u001b[0m\u001b[0m\n",
      "\u001b[0;31mNameError\u001b[0m: name 'pd' is not defined"
     ]
    }
   ],
   "source": [
    "# ## COMPARISON WITH EVENT DATA\n",
    "# dfOri3 = pd.DataFrame()\n",
    "# DmaxPerc = 0.2\n",
    "\n",
    "# dfeventsClean = dfevent.drop({'MotiveExpTimeSecs', 'session_id','Time'}, axis=1)\n",
    "# dfV = pd.merge(dfOri2, dfeventsClean, on='Frame')\n",
    "\n",
    "# dfV.head()\n"
   ]
  },
  {
   "cell_type": "code",
   "execution_count": null,
   "metadata": {},
   "outputs": [],
   "source": [
    "# # calculatinig the angles between X axis and the vectors\n",
    "# for name, dd in dfV.groupby('session_id'):\n",
    "#     # substraction\n",
    "#     dd['subU'] = dd.speed - dd.U\n",
    "    \n",
    "#     # setting Dmax as 20% of velocity at given moment // what about 0\n",
    "#     dd['Dmax'] = dd.speed * DmaxPerc\n",
    "#     dd['Dmax'] = dd.apply(lambda row: 0.1 if row.Dmax == 0 else row.Dmax, axis=1)\n",
    "#     dd['SRB']  = np.absolute(dd.sub) < np.absolute(dd.Dmax)\n",
    "\n",
    "#     dfOri3 = pd.concat([dfOri3, dd], axis=0, ignore_index=True)\n",
    "    \n",
    "# dfOri3 = dfOri3.replace([np.inf, -np.inf], np.nan).dropna()"
   ]
  }
 ],
 "metadata": {
  "kernelspec": {
   "display_name": "Python 3",
   "language": "python",
   "name": "python3"
  },
  "language_info": {
   "codemirror_mode": {
    "name": "ipython",
    "version": 3
   },
   "file_extension": ".py",
   "mimetype": "text/x-python",
   "name": "python",
   "nbconvert_exporter": "python",
   "pygments_lexer": "ipython3",
   "version": "3.6.3"
  }
 },
 "nbformat": 4,
 "nbformat_minor": 2
}
