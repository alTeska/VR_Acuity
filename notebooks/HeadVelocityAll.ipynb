{
 "cells": [
  {
   "cell_type": "markdown",
   "metadata": {},
   "source": [
    "# Head Velocity\n",
    "Notebook for clean attempt of checking the distribution of head velocity including the direction."
   ]
  },
  {
   "cell_type": "code",
   "execution_count": 1,
   "metadata": {},
   "outputs": [],
   "source": [
    "import sys\n",
    "import matplotlib.pyplot as plt\n",
    "import numpy as np\n",
    "import pandas as pd\n",
    "import seaborn as sns\n",
    "from scipy import stats, integrate, signal\n",
    "\n",
    "%matplotlib inline\n",
    "sns.set(color_codes=True)\n",
    "\n",
    "# loading data\n",
    "df = {}\n",
    "event = {}\n",
    "\n",
    "fname = [\n",
    "    'VRAcuityExp_2017-07-13_14-39-17_VR-4A_NIC',\n",
    "    'VRAcuityExp_2017-07-13_15-05-16_VR-2B_NIC',\n",
    "    'VRAcuityExp_2017-07-13_15-19-09_VR-2A_EDU',\n",
    "    'VRAcuityExp_2017-07-13_15-38-34_VR-1A_NIC',\n",
    "    'VRAcuityExp_2017-07-13_15-53-40_VR-1B_NIC',\n",
    "    'VRAcuityExp_2017-07-13_16-11-46_VR-3A_NIC',\n",
    "    'VRAcuityExp_2017-07-13_16-27-08_VR-3A_NIC',\n",
    "    'VRAcuityExp_2017-07-13_17-09-07_VR-5A_NIC', ]\n",
    "                                                                            \n",
    "path = '../datasets/'\n",
    "\n",
    "for i, x in enumerate(fname):\n",
    "    df[i] = pd.read_hdf(path+x+'_filter.h5', 'Full')\n",
    "    event[i] = pd.read_hdf(path+'analysis/'+x+'_event.h5', 'Event')      \n",
    "                                                                                                                                    "
   ]
  },
  {
   "cell_type": "code",
   "execution_count": 2,
   "metadata": {},
   "outputs": [],
   "source": [
    "# in use functions\n",
    "def angle_cos(V1, V2):\n",
    "    CosTheta = np.dot(V1,V2) / (np.linalg.norm(V1) * np.linalg.norm(V2))\n",
    "    return CosTheta\n",
    "\n",
    "\n",
    "def angle_zero(df):\n",
    "    V1 = np.array([df.lx1, 0, df.lz1])\n",
    "    V2 = np.array([1     , 0, 0     ])\n",
    "    CosTheta = np.dot(V1,V2) / (np.linalg.norm(V1) * np.linalg.norm(V2))\n",
    "    df['theta0'] = np.arccos(CosTheta)\n",
    "    return df\n",
    "\n",
    "\n",
    "def angle_orig(df):\n",
    "    V1 = np.array([df.X_Ori, df.Y_Ori, df.Z_Ori])\n",
    "    V2 = np.array([1       , 0       , 0     ])\n",
    "    CosTheta = np.dot(V1,V2) / (np.linalg.norm(V1) * np.linalg.norm(V2))\n",
    "    df['thetaOrig'] = np.arccos(CosTheta)\n",
    "    return df\n",
    "\n",
    "\n",
    "def decompose_vec_df(df):\n",
    "    # get two vectors aligned with Y and Z axes\n",
    "    Vo = np.array([df.X_Ori, df.Y_Ori, df.Z_Ori])  \n",
    "    Vz = np.array([df.X_Ori, df.Y_Ori, 0       ])  \n",
    "    Vx = np.array([0       , df.Y_Ori, df.Z_Ori])\n",
    "\n",
    "    # find the angles between them and orientation vector \n",
    "    df['lx1'] = angle_cos(Vo, Vz)\n",
    "    df['lz1'] = angle_cos(Vo, Vx)\n",
    "    return df\n"
   ]
  },
  {
   "cell_type": "markdown",
   "metadata": {},
   "source": [
    "## All experiments analysis\n",
    "Mergning event log and filetered data from experiments. Removing useless columns. Calculating the flattened vector in XZ plane (lx1, lz1) - including sing, and normalization to unitvector lenght. "
   ]
  },
  {
   "cell_type": "code",
   "execution_count": 3,
   "metadata": {},
   "outputs": [
    {
     "name": "stdout",
     "output_type": "stream",
     "text": [
      "done 0\n",
      "done 1\n",
      "done 2\n",
      "done 3\n",
      "done 4\n",
      "done 5\n",
      "done 6\n",
      "done 7\n"
     ]
    }
   ],
   "source": [
    "DF = {}\n",
    "\n",
    "for i, x in enumerate(fname):\n",
    "    DF[i] = pd.merge(event[i], df[i], on='Frame')\n",
    "\n",
    "    #clearing data off useless variables\n",
    "    DF[i].rename(columns={\"Time_Ori\":'Time'}, inplace=True)\n",
    "    DF[i].drop({'Time_Pos', 'X_Pos', 'Y_Pos', 'Z_Pos', 'dX', 'dY', 'dZ',}, axis=1, inplace=True)\n",
    "    print('done %d' % i)"
   ]
  },
  {
   "cell_type": "code",
   "execution_count": null,
   "metadata": {},
   "outputs": [
    {
     "name": "stdout",
     "output_type": "stream",
     "text": [
      "done 0\n",
      "done 1\n",
      "done 2\n",
      "done 3\n",
      "done 4\n",
      "done 5\n",
      "done 6\n",
      "done 7\n"
     ]
    }
   ],
   "source": [
    "# calculating lenghts of VecX and VecZ and creation of shifted vectors\n",
    "for i, x in enumerate(fname):\n",
    "    DF[i] = DF[i].apply(decompose_vec_df, axis=1)\n",
    "    DF[i]['V1'] = np.linalg.norm(np.array([DF[i].lx1, 0, DF[i].lz1]))\n",
    "\n",
    "    # propagate the sign of a X, Z to new vector\n",
    "    DF[i]['lx1'] = DF[i].apply(lambda row: row.lx1 * (row.X_Ori / np.absolute(row.X_Ori)), axis=1)\n",
    "    DF[i]['lz1'] = DF[i].apply(lambda row: row.lz1 * (row.Z_Ori / np.absolute(row.Z_Ori)), axis=1)\n",
    "\n",
    "    # normalize the data to unit vector form\n",
    "    DF[i]['lx1'] = DF[i].apply(lambda row: row.lx1 / row.V1, axis=1)\n",
    "    DF[i]['lz1'] = DF[i].apply(lambda row: row.lz1 / row.V1, axis=1)\n",
    "\n",
    "    DF[i].dropna(inplace=True)\n",
    "    print('done %d' % i)"
   ]
  },
  {
   "cell_type": "markdown",
   "metadata": {},
   "source": [
    "## Angle and Velocity\n",
    "Calculating the angle between orientation 2D vector and origin set to XZ(1,0). Substracting the angles between iterations to calculate change of angle in each iteration. Based on that: dV = dTheta / dTime"
   ]
  },
  {
   "cell_type": "code",
   "execution_count": null,
   "metadata": {},
   "outputs": [
    {
     "name": "stdout",
     "output_type": "stream",
     "text": [
      "done 0\n"
     ]
    }
   ],
   "source": [
    "# calculatinig the angles between X axis and the vectors\n",
    "for i, x in enumerate(fname):\n",
    "    DF[i] = DF[i].apply(angle_orig, axis=1) # calculation between two vectors(does not include direction) -  theta\n",
    "    DF[i] = DF[i].apply(angle_zero, axis=1) # calculation with origin\n",
    "\n",
    "    DF[i]['theta1'] = DF[i].theta0.shift(1)\n",
    "    DF[i]['theta']  = DF[i].apply(lambda row: row.theta0 - row.theta1, axis=1)\n",
    "    DF[i].drop({'theta0','theta1'}, axis=1, inplace=True)\n",
    "    print('done %d' % i)"
   ]
  },
  {
   "cell_type": "code",
   "execution_count": null,
   "metadata": {},
   "outputs": [],
   "source": [
    "# angular velocity\n",
    "for i, x in enumerate(fname):\n",
    "    DF[i]['U']     = DF[i].apply(lambda row: np.degrees(row.theta)     / row.dTime, axis=1) #between two vectors velocity\n",
    "    DF[i]['UOrig'] = DF[i].apply(lambda row: np.degrees(row.thetaOrig) / row.dTime, axis=1)\n",
    "    DF[i].dropna(inplace=True)\n",
    "    print('done %d' % i)"
   ]
  },
  {
   "cell_type": "code",
   "execution_count": null,
   "metadata": {},
   "outputs": [],
   "source": [
    "# U and theta distributions\n",
    "\n",
    "fig = plt.figure(figsize=(9,9))\n",
    "ax1 = fig.add_subplot(311)\n",
    "ax2 = fig.add_subplot(312)\n",
    "ax3 = fig.add_subplot(313)\n",
    "for i, x in enumerate(fname):\n",
    "\n",
    "    sns.distplot(DF[i].theta, ax=ax1)\n",
    "    sns.distplot(DF[i].U    , ax=ax2)\n",
    "    c2 = ax3.plot(DF[i].Time, DF[i].U)\n"
   ]
  },
  {
   "cell_type": "markdown",
   "metadata": {},
   "source": [
    "## Filtering velocity values"
   ]
  },
  {
   "cell_type": "code",
   "execution_count": null,
   "metadata": {},
   "outputs": [],
   "source": [
    "# U and theta distributions with limited velocity\n",
    "vlim = 100\n",
    "\n",
    "for i, x in enumerate(fname):\n",
    "    DF[i] = DF[i][DF[i]['dTime'] < 0.1]\n",
    "    DF[i] = DF[i][DF[i]['U'] < vlim]\n",
    "    DF[i] = DF[i][DF[i]['U'] >-vlim]\n",
    "    print('done %d' % i)\n",
    "\n",
    "# U and theta distributions\n",
    "fig = plt.figure(figsize=(9,9))\n",
    "ax1 = fig.add_subplot(311)\n",
    "ax2 = fig.add_subplot(312)\n",
    "ax3 = fig.add_subplot(313)\n",
    "for i, x in enumerate(fname):\n",
    "\n",
    "    sns.distplot(DF[i].theta, ax=ax1)\n",
    "    sns.distplot(DF[i].U    , ax=ax2)\n",
    "    c2 = ax3.plot(DF[i].Time, DF[i].U)"
   ]
  },
  {
   "cell_type": "markdown",
   "metadata": {},
   "source": [
    "## Angular velocity analysis\n",
    "Comparison of velocity logged per even with calculated velocit (substraction and correlation). Addtional smoothing of the data applied."
   ]
  },
  {
   "cell_type": "code",
   "execution_count": null,
   "metadata": {},
   "outputs": [],
   "source": [
    "for i, x in enumerate(fname):\n",
    "    # smoothing the data\n",
    "    DF[i]['M']     = DF[i]['U'].rolling(window=50).mean()\n",
    "\n",
    "    # substraction\n",
    "    DF[i]['sub1']  = DF[i].apply(lambda row: row.speed - row.U, axis=1)\n",
    "    DF[i]['sub2']  = DF[i].apply(lambda row: row.speed - row.M, axis=1)\n",
    "\n",
    "    # correlation\n",
    "    DF[i]['corr']  = signal.correlate(DF[i].speed, DF[i].U, mode='same') / 128\n",
    "    DF[i]['corrM'] = signal.correlate(DF[i].speed, DF[i].M, mode='same') / 128\n",
    "    print('done %d' % i)\n",
    "    "
   ]
  },
  {
   "cell_type": "code",
   "execution_count": null,
   "metadata": {},
   "outputs": [],
   "source": [
    "for i, x in enumerate(fname):\n",
    "    ## Plotting\n",
    "    fig = plt.figure(figsize=(15,12))\n",
    "    plt.title('experiment %d' % i)\n",
    "    ax1 = fig.add_subplot(511)\n",
    "    ax2 = fig.add_subplot(512)\n",
    "    ax3 = fig.add_subplot(513)\n",
    "    ax4 = fig.add_subplot(514)\n",
    "    ax5 = fig.add_subplot(515)\n",
    "\n",
    "    c1 = ax1.plot(DF[i].Time, DF[i].U)\n",
    "    c2 = ax2.plot(DF[i].Time, DF[i].speed)\n",
    "    c3 = ax3.plot(DF[i].Time, DF[i].M)\n",
    "    c3 = ax4.plot(DF[i].Time, DF[i].speed, DF[i].Time, DF[i].sub1)\n",
    "    c5 = ax5.plot(DF[i].Time, DF[i].speed, DF[i].Time, DF[i].sub2)\n"
   ]
  },
  {
   "cell_type": "code",
   "execution_count": null,
   "metadata": {},
   "outputs": [],
   "source": [
    "for i, x in enumerate(fname):\n",
    "    ## Plotting\n",
    "    fig = plt.figure(figsize=(15,15))\n",
    "    plt.title('experiment %d' % i)\n",
    "    ax1 = fig.add_subplot(511)\n",
    "    ax2 = fig.add_subplot(512)\n",
    "    ax3 = fig.add_subplot(513)\n",
    "    ax4 = fig.add_subplot(514)\n",
    "    ax5 = fig.add_subplot(515)\n",
    "\n",
    "    r = range(0, len(DF[i].Time))\n",
    "    \n",
    "    c1 = ax1.plot(r, DF[i].U)\n",
    "    c2 = ax2.plot(r, DF[i].speed)\n",
    "    c3 = ax3.plot(r, DF[i].M)\n",
    "    c3 = ax4.plot(r, DF[i].speed, r, DF[i].sub1)\n",
    "    c5 = ax5.plot(r, DF[i].speed, r, DF[i].sub2)\n",
    "    "
   ]
  },
  {
   "cell_type": "markdown",
   "metadata": {},
   "source": [
    "## Stimulus-related behavior\n",
    "Looking for frames detected as SRB. According to:\n",
    "SRB = {f E FRAMES: ||Vhead - Vstim|| < Dmax"
   ]
  },
  {
   "cell_type": "code",
   "execution_count": null,
   "metadata": {},
   "outputs": [],
   "source": [
    "# creation of needed dataset\n",
    "dfSRB = {}\n",
    "\n",
    "for i, x in enumerate(fname):\n",
    "    dfSRB[i] = DF[i].copy()\n",
    "    dfSRB[i].drop({'MotiveExpTimeSecs', 'X_Ori', 'Y_Ori', 'Z_Ori', 'dTime', 'Vxyz', 'lx1', 'lz1', 'V1',\n",
    "                'thetaOrig', 'theta', 'UOrig', 'M', 'corr','corrM', 'subU', }, axis=1, inplace=True)\n",
    "\n",
    "    dfSRB[i].dropna(inplace=True)\n"
   ]
  },
  {
   "cell_type": "code",
   "execution_count": null,
   "metadata": {},
   "outputs": [],
   "source": [
    "sumSRB, dfSRBVis, dfSRBInvis, sumSRBVis, sumSRBInvis = {}, {}, {}, {}, {}\n",
    "\n",
    "for i, x in enumerate(fname):\n",
    "    # setting Dmax as 20% of velocity at given moment // what about 0\n",
    "    dfSRB[i]['Dmax'] = dfSRB[i].apply(lambda row: row.speed * 0.2, axis=1)\n",
    "    dfSRB[i]['SRB']  = dfSRB[i].apply(lambda row: np.absolute(row.subM) < np.absolute(row.Dmax), axis=1)\n",
    "\n",
    "    # checking lenght of SRB frames in the filtered experiment data\n",
    "    sumSRB[i] = len(dfSRB[i][dfSRB[i]['SRB']])\n",
    "\n",
    "    #  temp dataframes with stimuli being present or not\n",
    "    dfSRBVis[i]   = dfSRB[i][ dfSRB[i]['visible']]\n",
    "    dfSRBInvis[i] = dfSRB[i][~dfSRB[i]['visible']]\n",
    "\n",
    "    sumSRBVis[i]  = len(dfSRBVis[i]  [dfSRBVis[i]['SRB']])\n",
    "    sumSRBInvis[i]= len(dfSRBInvis[i][dfSRBInvis[i]['SRB']])\n",
    " \n",
    "    print('exp %d; stimulus-related behavior: %f%%'     % (i, sumSRB[i]      * 100 / len(dfSRB[i])     ))\n",
    "    print('exp %d; SRM when stimuli is visible: %f%%'   % (i, sumSRBVis[i]   * 100 / len(dfSRBVis[i])  ))\n",
    "    print('exp %d; SRM when stimuli is invisible: %f%%' % (i, sumSRBInvis[i] * 100 / len(dfSRBInvis[i])))\n",
    "\n",
    "#print('\\n', sumSRB[i])\n",
    "#pd.set_option('display.max_rows', 2000)\n",
    "#print(fname[i])\n",
    "#print(dfSRB[dfSRB['SRB']])"
   ]
  }
 ],
 "metadata": {
  "kernelspec": {
   "display_name": "Python 3",
   "language": "python",
   "name": "python3"
  },
  "language_info": {
   "codemirror_mode": {
    "name": "ipython",
    "version": 3
   },
   "file_extension": ".py",
   "mimetype": "text/x-python",
   "name": "python",
   "nbconvert_exporter": "python",
   "pygments_lexer": "ipython3",
   "version": "3.6.3"
  }
 },
 "nbformat": 4,
 "nbformat_minor": 2
}
