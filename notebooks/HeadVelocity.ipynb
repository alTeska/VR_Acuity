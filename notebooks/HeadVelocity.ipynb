{
 "cells": [
  {
   "cell_type": "markdown",
   "metadata": {},
   "source": [
    "# Head Velocity\n",
    "Notebook for clean attempt of checking the distribution of head velocity including the direction."
   ]
  },
  {
   "cell_type": "code",
   "execution_count": 1,
   "metadata": {},
   "outputs": [
    {
     "ename": "NameError",
     "evalue": "name 'pd' is not defined",
     "output_type": "error",
     "traceback": [
      "\u001b[0;31m---------------------------------------------------------------------------\u001b[0m",
      "\u001b[0;31mNameError\u001b[0m                                 Traceback (most recent call last)",
      "\u001b[0;32m<ipython-input-1-a953ef3a5e8f>\u001b[0m in \u001b[0;36m<module>\u001b[0;34m()\u001b[0m\n\u001b[1;32m     26\u001b[0m \u001b[0;34m\u001b[0m\u001b[0m\n\u001b[1;32m     27\u001b[0m \u001b[0;32mfor\u001b[0m \u001b[0mi\u001b[0m\u001b[0;34m,\u001b[0m \u001b[0mx\u001b[0m \u001b[0;32min\u001b[0m \u001b[0menumerate\u001b[0m\u001b[0;34m(\u001b[0m\u001b[0mfname\u001b[0m\u001b[0;34m)\u001b[0m\u001b[0;34m:\u001b[0m\u001b[0;34m\u001b[0m\u001b[0m\n\u001b[0;32m---> 28\u001b[0;31m     \u001b[0mdf\u001b[0m\u001b[0;34m[\u001b[0m\u001b[0mi\u001b[0m\u001b[0;34m]\u001b[0m    \u001b[0;34m=\u001b[0m \u001b[0mpd\u001b[0m\u001b[0;34m.\u001b[0m\u001b[0mread_hdf\u001b[0m\u001b[0;34m(\u001b[0m\u001b[0mpath\u001b[0m\u001b[0;34m+\u001b[0m\u001b[0mx\u001b[0m\u001b[0;34m+\u001b[0m\u001b[0;34m'_filter.h5'\u001b[0m\u001b[0;34m,\u001b[0m \u001b[0;34m'Full'\u001b[0m\u001b[0;34m)\u001b[0m\u001b[0;34m\u001b[0m\u001b[0m\n\u001b[0m\u001b[1;32m     29\u001b[0m     \u001b[0mevent\u001b[0m\u001b[0;34m[\u001b[0m\u001b[0mi\u001b[0m\u001b[0;34m]\u001b[0m \u001b[0;34m=\u001b[0m \u001b[0mpd\u001b[0m\u001b[0;34m.\u001b[0m\u001b[0mread_hdf\u001b[0m\u001b[0;34m(\u001b[0m\u001b[0mpath\u001b[0m\u001b[0;34m+\u001b[0m\u001b[0;34m'analysis/'\u001b[0m\u001b[0;34m+\u001b[0m\u001b[0mx\u001b[0m\u001b[0;34m+\u001b[0m\u001b[0;34m'_event.h5'\u001b[0m\u001b[0;34m,\u001b[0m \u001b[0;34m'Event'\u001b[0m\u001b[0;34m)\u001b[0m\u001b[0;34m\u001b[0m\u001b[0m\n\u001b[1;32m     30\u001b[0m \u001b[0;34m\u001b[0m\u001b[0m\n",
      "\u001b[0;31mNameError\u001b[0m: name 'pd' is not defined"
     ]
    }
   ],
   "source": [
    "import sys\n",
    "import matplotlib.pyplot as plt\n",
    "import numpy as np\n",
    "import pandas as pdpip\n",
    "import seaborn as sns\n",
    "from scipy import stats, integrate, signal\n",
    "\n",
    "%matplotlib inline\n",
    "sns.set(color_codes=True)\n",
    "\n",
    "# loading data\n",
    "df = {}\n",
    "event = {}\n",
    "\n",
    "fname = [\n",
    "    'VRAcuityExp_2017-07-13_14-39-17_VR-4A_NIC',\n",
    "    'VRAcuityExp_2017-07-13_15-05-16_VR-2B_NIC',\n",
    "    'VRAcuityExp_2017-07-13_15-19-09_VR-2A_EDU',\n",
    "    'VRAcuityExp_2017-07-13_15-38-34_VR-1A_NIC',\n",
    "    'VRAcuityExp_2017-07-13_15-53-40_VR-1B_NIC',\n",
    "    'VRAcuityExp_2017-07-13_16-11-46_VR-3A_NIC',\n",
    "    'VRAcuityExp_2017-07-13_16-27-08_VR-3A_NIC',\n",
    "    'VRAcuityExp_2017-07-13_17-09-07_VR-5A_NIC', ]\n",
    "                                                                            \n",
    "path = '../datasets/'\n",
    "\n",
    "for i, x in enumerate(fname):\n",
    "    df[i]    = pd.read_hdf(path+x+'_filter.h5', 'Full')\n",
    "    event[i] = pd.read_hdf(path+'analysis/'+x+'_event.h5', 'Event')      \n",
    "\n",
    "# Pick the experiment number\n",
    "i = 2\n"
   ]
  },
  {
   "cell_type": "code",
   "execution_count": null,
   "metadata": {},
   "outputs": [],
   "source": [
    "# in use functions\n",
    "def angle_cos(V1, V2):\n",
    "    CosTheta = np.dot(V1,V2) / (np.linalg.norm(V1) * np.linalg.norm(V2))\n",
    "    return CosTheta\n",
    "\n",
    "\n",
    "def angle_zero(df):\n",
    "    V1 = np.array([df.lx1, 0, df.lz1])\n",
    "    V2 = np.array([1     , 0, 0     ])\n",
    "    CosTheta = np.dot(V1,V2) / (np.linalg.norm(V1) * np.linalg.norm(V2))\n",
    "    df['theta0'] = np.arccos(CosTheta)\n",
    "    return df\n",
    "\n",
    "\n",
    "def angle_orig(df):\n",
    "    V1 = np.array([df.X_Ori, df.Y_Ori, df.Z_Ori])\n",
    "    V2 = np.array([1       , 0       , 0     ])\n",
    "    CosTheta = np.dot(V1,V2) / (np.linalg.norm(V1) * np.linalg.norm(V2))\n",
    "    df['thetaOrig'] = np.arccos(CosTheta)\n",
    "    return df\n",
    "\n",
    "\n",
    "def decompose_vec_df(df):\n",
    "    # get two vectors aligned with Y and Z axes\n",
    "    Vo = np.array([df.X_Ori, df.Y_Ori, df.Z_Ori])  \n",
    "    Vz = np.array([df.X_Ori, df.Y_Ori, 0       ])  \n",
    "    Vx = np.array([0       , df.Y_Ori, df.Z_Ori])\n",
    "\n",
    "    # find the angles between them and orientation vector \n",
    "    df['lx1'] = angle_cos(Vo, Vz)\n",
    "    df['lz1'] = angle_cos(Vo, Vx)\n",
    "    return df\n"
   ]
  },
  {
   "cell_type": "markdown",
   "metadata": {},
   "source": [
    "## Single experiment analysis\n",
    "Mergning event log and filetered data from experiment. Removing useless columns. Calculating the flattened vector in XZ plane (lx1, lz1) - including sing, and normalization to unitvector lenght. "
   ]
  },
  {
   "cell_type": "code",
   "execution_count": null,
   "metadata": {},
   "outputs": [],
   "source": [
    "dfV = pd.merge(event[i], df[i], on='Frame')\n",
    "\n",
    "#clearing data off useless variables\n",
    "dfV.rename(columns={\"Time_Ori\":'Time'}, inplace=True)\n",
    "dfV.drop({'Time_Pos', 'X_Pos', 'Y_Pos', 'Z_Pos', 'dX', 'dY', 'dZ',}, axis=1, inplace=True)\n"
   ]
  },
  {
   "cell_type": "code",
   "execution_count": null,
   "metadata": {},
   "outputs": [],
   "source": [
    "# calculating lenghts of VecX and VecZ and creation of shifted vectors\n",
    "dfV = dfV.apply(decompose_vec_df, axis=1)\n",
    "\n",
    "# propagate the sign of a X, Z to new vector\n",
    "dfV['lx1'] = dfV.apply(lambda row: row.lx1 * (row.X_Ori / np.absolute(row.X_Ori)), axis=1)\n",
    "dfV['lz1'] = dfV.apply(lambda row: row.lz1 * (row.Z_Ori / np.absolute(row.Z_Ori)), axis=1)\n",
    "\n",
    "\n",
    "\n",
    "# normalize the data to unit vector form\n",
    "dfV['V1'] = np.linalg.norm(np.array([dfV.lx1, 0, dfV.lz1]))\n",
    "dfV['lx1'] = dfV.apply(lambda row: row.lx1 / row.V1, axis=1)\n",
    "dfV['lz1'] = dfV.apply(lambda row: row.lz1 / row.V1, axis=1)\n",
    "\n",
    "\n",
    "dfV.dropna(inplace=True)\n"
   ]
  },
  {
   "cell_type": "markdown",
   "metadata": {},
   "source": [
    "## Angle and Velocity\n",
    "Calculating the angle between orientation 2D vector and origin set to XZ(1,0). Substracting the angles between iterations to calculate change of angle in each iteration. Based on that: dV = dTheta / dTime"
   ]
  },
  {
   "cell_type": "code",
   "execution_count": null,
   "metadata": {},
   "outputs": [],
   "source": [
    "# calculatinig the angles between X axis and the vectors\n",
    "dfV = dfV.apply(angle_orig, axis=1) # calculation between two vectors(does not include direction) -  theta\n",
    "dfV = dfV.apply(angle_zero, axis=1) # calculation with origin\n",
    "\n",
    "dfV['theta1'] = dfV.theta0.shift(1)\n",
    "dfV['theta'] = dfV.apply(lambda row: row.theta0 - row.theta1, axis=1)\n",
    "dfV.drop({'theta0','theta1'}, axis=1, inplace=True)\n",
    "\n"
   ]
  },
  {
   "cell_type": "code",
   "execution_count": null,
   "metadata": {},
   "outputs": [],
   "source": [
    "# angular velocity\n",
    "dfV['U']     = dfV.apply(lambda row: np.degrees(row.theta)     / row.dTime, axis=1) #between two vectors velocity\n",
    "dfV['UOrig'] = dfV.apply(lambda row: np.degrees(row.thetaOrig) / row.dTime, axis=1)\n",
    "dfV.dropna(inplace=True)\n"
   ]
  },
  {
   "cell_type": "code",
   "execution_count": null,
   "metadata": {},
   "outputs": [],
   "source": [
    "# plotting original X, Y and new vector\n",
    "fig = plt.figure(figsize=(12,12))\n",
    "sns.pairplot(dfV, vars=['X_Ori', 'Z_Ori'])\n",
    "\n",
    "fig = plt.figure(figsize=(12,12))\n",
    "sns.pairplot(dfV, vars=['lx1', 'lz1'])"
   ]
  },
  {
   "cell_type": "code",
   "execution_count": null,
   "metadata": {},
   "outputs": [],
   "source": [
    "# U and theta distributions\n",
    "fig = plt.figure(figsize=(9,9))\n",
    "ax1 = fig.add_subplot(411)\n",
    "ax2 = fig.add_subplot(412)\n",
    "ax3 = fig.add_subplot(413)\n",
    "ax4 = fig.add_subplot(414)\n",
    "\n",
    "sns.distplot(dfV.theta, ax=ax1)\n",
    "sns.distplot(dfV.U    , ax=ax2)\n",
    "c1 = ax3.plot(dfV.Time, dfV.U)\n",
    "e1 = ax4.plot(event[i].Time, event[i].speed)\n"
   ]
  },
  {
   "cell_type": "markdown",
   "metadata": {},
   "source": [
    "## Filtering velocity values"
   ]
  },
  {
   "cell_type": "code",
   "execution_count": null,
   "metadata": {},
   "outputs": [],
   "source": [
    "# Pick the hyperparameters for analysis\n",
    "hyperparam = { 'windowSize': 30 ,\n",
    "               'limitDT'   : 0.1,\n",
    "               'limitVAng' : 100,\n",
    "               'DmaxPerc'  : 0.2,}"
   ]
  },
  {
   "cell_type": "code",
   "execution_count": null,
   "metadata": {},
   "outputs": [],
   "source": [
    "# U and theta distributions with limited velocity\n",
    "dfV  = dfV[dfV['dTime'] < hyperparam['limitDT']]\n",
    "\n",
    "dfV = dfV[dfV['U'] < hyperparam['limitVAng']]\n",
    "dfV = dfV[dfV['U'] >-hyperparam['limitVAng']]\n",
    "\n",
    "# U and theta distributions\n",
    "fig = plt.figure(figsize=(9,9))\n",
    "ax1 = fig.add_subplot(411)\n",
    "ax2 = fig.add_subplot(412)\n",
    "ax3 = fig.add_subplot(413)\n",
    "ax4 = fig.add_subplot(414)\n",
    "\n",
    "sns.distplot(dfV.theta, ax=ax1)\n",
    "sns.distplot(dfV.U    , ax=ax2)\n",
    "c1 = ax3.plot(dfV.Time, dfV.U)\n",
    "#c1 = ax3.plot(dfV.Time, dfV.U)\n",
    "e1 = ax4.plot(event[i].Time, event[i].speed)\n"
   ]
  },
  {
   "cell_type": "markdown",
   "metadata": {},
   "source": [
    "## Angular velocity analysis\n",
    "Comparison of velocity logged per even with calculated velocit (substraction and correlation). Addtional smoothing of the data applied."
   ]
  },
  {
   "cell_type": "code",
   "execution_count": null,
   "metadata": {},
   "outputs": [],
   "source": [
    "#smoothing the data\n",
    "dfV['M']     = dfV['U'].rolling(window=hyperparam['windowSize']).mean()\n",
    "\n",
    "# substraction\n",
    "dfV['subU']  = dfV.apply(lambda row: row.speed - row.U, axis=1)\n",
    "dfV['subM']  = dfV.apply(lambda row: row.speed - row.M, axis=1)\n",
    "\n",
    "# correlation\n",
    "dfV['corr']  = signal.correlate(dfV.speed, dfV.U, mode='same') / 128\n",
    "dfV['corrM'] = signal.correlate(dfV.speed, dfV.M, mode='same') / 128\n",
    "\n",
    "#print(dfV.corr)"
   ]
  },
  {
   "cell_type": "code",
   "execution_count": null,
   "metadata": {},
   "outputs": [],
   "source": [
    "## Plotting based on amount of samples not time\n",
    "fig = plt.figure(figsize=(15,12))\n",
    "ax1 = fig.add_subplot(511)\n",
    "ax2 = fig.add_subplot(512)\n",
    "ax3 = fig.add_subplot(513)\n",
    "ax4 = fig.add_subplot(514)\n",
    "ax5 = fig.add_subplot(515)\n",
    "\n",
    "r = range(0, len(dfV))\n",
    "\n",
    "c2 = ax1.plot(r, dfV.speed)\n",
    "c1 = ax2.plot(r, dfV.U)\n",
    "c4 = ax3.plot(r, dfV.M)\n",
    "c3 = ax4.plot(r, dfV.speed, r, dfV.subU)\n",
    "c5 = ax5.plot(r, dfV.speed, r, dfV.subM)\n"
   ]
  },
  {
   "cell_type": "code",
   "execution_count": null,
   "metadata": {},
   "outputs": [],
   "source": [
    "## Plotting\n",
    "fig = plt.figure(figsize=(15,12))\n",
    "ax1 = fig.add_subplot(511)\n",
    "ax2 = fig.add_subplot(512)\n",
    "ax3 = fig.add_subplot(513)\n",
    "ax4 = fig.add_subplot(514)\n",
    "ax5 = fig.add_subplot(515)\n",
    "\n",
    "#c2 = ax1.plot(dfV.Time, dfV.speed, linestyle='none', marker='o')\n",
    "\n",
    "c2 = ax1.plot(dfV.Time, dfV.speed, event[i].Time, event[i].speed)\n",
    "c1 = ax2.plot(dfV.Time, dfV.U)\n",
    "c4 = ax3.plot(dfV.Time, dfV.M)\n",
    "c3 = ax4.plot(dfV.Time, dfV.speed, dfV.Time, dfV.subU)\n",
    "c5 = ax5.plot(dfV.Time, dfV.speed, dfV.Time, dfV.subM)\n"
   ]
  },
  {
   "cell_type": "code",
   "execution_count": null,
   "metadata": {},
   "outputs": [],
   "source": [
    "fig = plt.figure(figsize=(12,6))\n",
    "ax1 = fig.add_subplot(111)\n",
    "c5 = ax1.plot(dfV.Time, dfV.speed, dfV.Time, dfV.subM)\n",
    "\n",
    "fig = plt.figure(figsize=(12,6))\n",
    "ax1 = fig.add_subplot(111)\n",
    "c5 = ax1.plot(dfV.Time, dfV.speed, dfV.Time, dfV.subM, linestyle='none', marker='.')\n"
   ]
  },
  {
   "cell_type": "markdown",
   "metadata": {},
   "source": [
    "## Stimulus-related behavior\n",
    "Looking for frames detected as SRB. According to:\n"
   ]
  },
  {
   "cell_type": "code",
   "execution_count": null,
   "metadata": {},
   "outputs": [],
   "source": [
    "# creation of needed dataset\n",
    "dfSRB = dfV.copy()\n",
    "dfSRB.drop({'MotiveExpTimeSecs', 'X_Ori', 'Y_Ori', 'Z_Ori', 'dTime', 'Vxyz', 'lx1', 'lz1', 'V1',\n",
    "                'thetaOrig', 'theta', 'UOrig', 'M', 'corr','corrM', 'subU', }, axis=1, inplace=True)\n",
    "\n",
    "dfSRB.dropna(inplace=True)\n"
   ]
  },
  {
   "cell_type": "code",
   "execution_count": null,
   "metadata": {},
   "outputs": [],
   "source": [
    " # setting Dmax as 20% of velocity at given moment // what about 0\n",
    "dfSRB['Dmax'] = dfSRB.apply(lambda row: row.speed * hyperparam['DmaxPerc'], axis=1)\n",
    "dfSRB['Dmax'] = dfSRB.apply(lambda row: 0.1 if row.Dmax == 0 else row.Dmax, axis=1)\n",
    "dfSRB['SRB']  = dfSRB.apply(lambda row: np.absolute(row.subM) < np.absolute(row.Dmax), axis=1)\n",
    "\n",
    "# checking lenght of SRB frames in the filtered experiment data\n",
    "sumSRB = len(dfSRB[dfSRB['SRB']])\n",
    "\n",
    "#  temp dataframes with stimuli being present or not\n",
    "dfSRBVis = dfSRB[dfSRB['visible']]\n",
    "dfSRBInvis = dfSRB[~dfSRB['visible']]\n",
    "\n",
    "sumSRBVis   = len(dfSRBVis[dfSRBVis['SRB']])\n",
    "sumSRBInvis = len(dfSRBInvis[dfSRBInvis['SRB']])\n",
    " \n",
    "print(fname[i])\n",
    "print('stimulus-related behavior: %f%%'     % (sumSRB      * 100 / len(dfSRB)     ))\n",
    "print('SRM when stimuli is visible: %f%%'   % (sumSRBVis   * 100 / len(dfSRBVis)  ))\n",
    "print('SRM when stimuli is invisible: %f%%' % (sumSRBInvis * 100 / len(dfSRBInvis)))\n",
    "\n",
    "pd.set_option('display.max_rows', 2000)\n",
    "#print(dfSRB[dfSRB['SRB']])\n",
    "\n",
    "# analysis of the stimuli per speed \n",
    "fig = plt.figure(figsize=(9,9))\n",
    "ax1 = fig.add_subplot(211)\n",
    "ax2 = fig.add_subplot(212)\n",
    "\n",
    "sns.distplot(dfSRB.speed, ax=ax1)\n",
    "sns.distplot(dfSRB.U    , ax=ax2)"
   ]
  }
 ],
 "metadata": {
  "kernelspec": {
   "display_name": "Python 3",
   "language": "python",
   "name": "python3"
  },
  "language_info": {
   "codemirror_mode": {
    "name": "ipython",
    "version": 3
   },
   "file_extension": ".py",
   "mimetype": "text/x-python",
   "name": "python",
   "nbconvert_exporter": "python",
   "pygments_lexer": "ipython3",
   "version": "3.6.3"
  }
 },
 "nbformat": 4,
 "nbformat_minor": 2
}
