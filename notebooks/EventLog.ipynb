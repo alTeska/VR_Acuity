{
 "cells": [
  {
   "cell_type": "markdown",
   "metadata": {},
   "source": [
    "# Event log \n",
    "Notebook for reading data from eventLog"
   ]
  },
  {
   "cell_type": "code",
   "execution_count": 1,
   "metadata": {
    "scrolled": true
   },
   "outputs": [
    {
     "name": "stdout",
     "output_type": "stream",
     "text": [
      "<HDF5 file \"VRAcuityExp_2017-07-13_15-05-16_VR-2B_NIC.h5\" (mode r)>\n",
      "<HDF5 file \"VRAcuityExp_2017-07-13_15-19-09_VR-2A_EDU.h5\" (mode r)>\n"
     ]
    }
   ],
   "source": [
    "import numpy as np\n",
    "import pandas as pd\n",
    "import h5py\n",
    "\n",
    "eventArg  = {}\n",
    "eventName = {}\n",
    "eventlog  = {}\n",
    "\n",
    "path = '../datasets/'\n",
    "key = '/events/'\n",
    "\n",
    "fname = [\n",
    "    'VRAcuityExp_2017-07-13_14-39-17_VR-4A_NIC',\n",
    "    'VRAcuityExp_2017-07-13_15-05-16_VR-2B_NIC',\n",
    "    'VRAcuityExp_2017-07-13_15-19-09_VR-2A_EDU',\n",
    "    'VRAcuityExp_2017-07-13_15-38-34_VR-1A_NIC',\n",
    "    'VRAcuityExp_2017-07-13_15-53-40_VR-1B_NIC',\n",
    "    'VRAcuityExp_2017-07-13_16-11-46_VR-3A_NIC',\n",
    "    'VRAcuityExp_2017-07-13_16-27-08_VR-3A_NIC',\n",
    "    'VRAcuityExp_2017-07-13_17-09-07_VR-5A_NIC', ]\n",
    "\n",
    "\n",
    "for i, x in enumerate(fname):\n",
    "    eventlog[i] = pd.read_hdf(path+x+'.h5', key+'eventlog')      \n",
    "    eventArg[i] = h5py.File(path+x+'.h5', 'r')\n",
    "\n",
    "    #    eventName[i] = pd.read_hdf(path+x+h5, key+'eventNames')\n",
    "print(eventArg[1])\n",
    "print(eventArg[2])\n"
   ]
  },
  {
   "cell_type": "code",
   "execution_count": 4,
   "metadata": {},
   "outputs": [
    {
     "name": "stdout",
     "output_type": "stream",
     "text": [
      "KeysView(<HDF5 file \"VRAcuityExp_2017-07-13_14-39-17_VR-4A_NIC.h5\" (mode r)>)\n"
     ]
    }
   ],
   "source": [
    "eventA = h5py.File(path+fname[0]+'.h5', 'r')\n",
    "print(eventA.keys())\n",
    "#print(eventA.events())"
   ]
  },
  {
   "cell_type": "code",
   "execution_count": null,
   "metadata": {},
   "outputs": [],
   "source": [
    "for i, x in enumerate(fname):\n",
    "    print(eventlog[i].keys())\n",
    "\n",
    "print(eventlog[1])"
   ]
  }
 ],
 "metadata": {
  "kernelspec": {
   "display_name": "Python 3",
   "language": "python",
   "name": "python3"
  },
  "language_info": {
   "codemirror_mode": {
    "name": "ipython",
    "version": 3
   },
   "file_extension": ".py",
   "mimetype": "text/x-python",
   "name": "python",
   "nbconvert_exporter": "python",
   "pygments_lexer": "ipython3",
   "version": "3.6.3"
  }
 },
 "nbformat": 4,
 "nbformat_minor": 2
}
