{
 "cells": [
  {
   "cell_type": "code",
   "execution_count": 1,
   "metadata": {},
   "outputs": [],
   "source": [
    "# data loading\n",
    "import numpy as np\n",
    "import pandas as pd\n",
    "import matplotlib.pyplot as plt\n",
    "import seaborn as sns\n",
    "from mpl_toolkits.mplot3d import Axes3D\n",
    "from scipy import stats, integrate\n",
    "\n",
    "%matplotlib inline\n",
    "sns.set(color_codes=True)"
   ]
  },
  {
   "cell_type": "markdown",
   "metadata": {},
   "source": [
    "## Load Data"
   ]
  },
  {
   "cell_type": "code",
   "execution_count": 31,
   "metadata": {},
   "outputs": [
    {
     "data": {
      "text/plain": [
       "Index(['index', 'Time', 'visible', 'speed'], dtype='object')"
      ]
     },
     "execution_count": 31,
     "metadata": {},
     "output_type": "execute_result"
    }
   ],
   "source": [
    "stim.columns"
   ]
  },
  {
   "cell_type": "code",
   "execution_count": 39,
   "metadata": {},
   "outputs": [
    {
     "data": {
      "text/html": [
       "<div>\n",
       "<style scoped>\n",
       "    .dataframe tbody tr th:only-of-type {\n",
       "        vertical-align: middle;\n",
       "    }\n",
       "\n",
       "    .dataframe tbody tr th {\n",
       "        vertical-align: top;\n",
       "    }\n",
       "\n",
       "    .dataframe thead th {\n",
       "        text-align: right;\n",
       "    }\n",
       "</style>\n",
       "<table border=\"1\" class=\"dataframe\">\n",
       "  <thead>\n",
       "    <tr style=\"text-align: right;\">\n",
       "      <th></th>\n",
       "      <th>Frame</th>\n",
       "      <th>Time</th>\n",
       "      <th>visible</th>\n",
       "      <th>speed</th>\n",
       "      <th>session_id</th>\n",
       "    </tr>\n",
       "    <tr>\n",
       "      <th>index</th>\n",
       "      <th></th>\n",
       "      <th></th>\n",
       "      <th></th>\n",
       "      <th></th>\n",
       "      <th></th>\n",
       "    </tr>\n",
       "  </thead>\n",
       "  <tbody>\n",
       "    <tr>\n",
       "      <th>0</th>\n",
       "      <td>0</td>\n",
       "      <td>0.000000</td>\n",
       "      <td>0</td>\n",
       "      <td>0.0</td>\n",
       "      <td>0</td>\n",
       "    </tr>\n",
       "    <tr>\n",
       "      <th>1</th>\n",
       "      <td>0</td>\n",
       "      <td>0.000000</td>\n",
       "      <td>0</td>\n",
       "      <td>0.0</td>\n",
       "      <td>0</td>\n",
       "    </tr>\n",
       "    <tr>\n",
       "      <th>2</th>\n",
       "      <td>1</td>\n",
       "      <td>0.004167</td>\n",
       "      <td>0</td>\n",
       "      <td>0.0</td>\n",
       "      <td>0</td>\n",
       "    </tr>\n",
       "  </tbody>\n",
       "</table>\n",
       "</div>"
      ],
      "text/plain": [
       "       Frame      Time  visible  speed  session_id\n",
       "index                                             \n",
       "0          0  0.000000        0    0.0           0\n",
       "1          0  0.000000        0    0.0           0\n",
       "2          1  0.004167        0    0.0           0"
      ]
     },
     "execution_count": 39,
     "metadata": {},
     "output_type": "execute_result"
    }
   ],
   "source": [
    "path = '../datasets/preprocessed/'\n",
    "stim   = pd.read_hdf(path+'relationalDatabase.h5', 'Events').set_index('index')\n",
    "stim.drop(labels=['MotiveExpTimeSecs'], axis=1, inplace=True)\n",
    "stim.head(3)"
   ]
  },
  {
   "cell_type": "code",
   "execution_count": 40,
   "metadata": {},
   "outputs": [
    {
     "data": {
      "text/html": [
       "<div>\n",
       "<style scoped>\n",
       "    .dataframe tbody tr th:only-of-type {\n",
       "        vertical-align: middle;\n",
       "    }\n",
       "\n",
       "    .dataframe tbody tr th {\n",
       "        vertical-align: top;\n",
       "    }\n",
       "\n",
       "    .dataframe thead th {\n",
       "        text-align: right;\n",
       "    }\n",
       "</style>\n",
       "<table border=\"1\" class=\"dataframe\">\n",
       "  <thead>\n",
       "    <tr style=\"text-align: right;\">\n",
       "      <th></th>\n",
       "      <th>Frame</th>\n",
       "      <th>Time</th>\n",
       "      <th>X_Pos</th>\n",
       "      <th>Y_Pos</th>\n",
       "      <th>Z_Pos</th>\n",
       "      <th>X_Ori</th>\n",
       "      <th>Y_Ori</th>\n",
       "      <th>Z_Ori</th>\n",
       "      <th>session_id</th>\n",
       "      <th>dT</th>\n",
       "      <th>theta</th>\n",
       "      <th>U</th>\n",
       "    </tr>\n",
       "    <tr>\n",
       "      <th>index</th>\n",
       "      <th></th>\n",
       "      <th></th>\n",
       "      <th></th>\n",
       "      <th></th>\n",
       "      <th></th>\n",
       "      <th></th>\n",
       "      <th></th>\n",
       "      <th></th>\n",
       "      <th></th>\n",
       "      <th></th>\n",
       "      <th></th>\n",
       "      <th></th>\n",
       "    </tr>\n",
       "  </thead>\n",
       "  <tbody>\n",
       "    <tr>\n",
       "      <th>1</th>\n",
       "      <td>291</td>\n",
       "      <td>1.212500</td>\n",
       "      <td>-0.019489</td>\n",
       "      <td>0.098921</td>\n",
       "      <td>0.039769</td>\n",
       "      <td>-0.415185</td>\n",
       "      <td>-0.116979</td>\n",
       "      <td>0.780241</td>\n",
       "      <td>0</td>\n",
       "      <td>0.004167</td>\n",
       "      <td>0.016371</td>\n",
       "      <td>225.095621</td>\n",
       "    </tr>\n",
       "    <tr>\n",
       "      <th>2</th>\n",
       "      <td>292</td>\n",
       "      <td>1.216667</td>\n",
       "      <td>-0.018301</td>\n",
       "      <td>0.099490</td>\n",
       "      <td>0.041191</td>\n",
       "      <td>-0.401292</td>\n",
       "      <td>-0.115907</td>\n",
       "      <td>0.785460</td>\n",
       "      <td>0</td>\n",
       "      <td>0.004167</td>\n",
       "      <td>0.016686</td>\n",
       "      <td>229.429018</td>\n",
       "    </tr>\n",
       "    <tr>\n",
       "      <th>3</th>\n",
       "      <td>293</td>\n",
       "      <td>1.220833</td>\n",
       "      <td>-0.017100</td>\n",
       "      <td>0.100036</td>\n",
       "      <td>0.042615</td>\n",
       "      <td>-0.387157</td>\n",
       "      <td>-0.114871</td>\n",
       "      <td>0.790418</td>\n",
       "      <td>0</td>\n",
       "      <td>0.004166</td>\n",
       "      <td>0.016865</td>\n",
       "      <td>231.951156</td>\n",
       "    </tr>\n",
       "  </tbody>\n",
       "</table>\n",
       "</div>"
      ],
      "text/plain": [
       "       Frame      Time     X_Pos     Y_Pos     Z_Pos     X_Ori     Y_Ori  \\\n",
       "index                                                                      \n",
       "1        291  1.212500 -0.019489  0.098921  0.039769 -0.415185 -0.116979   \n",
       "2        292  1.216667 -0.018301  0.099490  0.041191 -0.401292 -0.115907   \n",
       "3        293  1.220833 -0.017100  0.100036  0.042615 -0.387157 -0.114871   \n",
       "\n",
       "          Z_Ori  session_id        dT     theta           U  \n",
       "index                                                        \n",
       "1      0.780241           0  0.004167  0.016371  225.095621  \n",
       "2      0.785460           0  0.004167  0.016686  229.429018  \n",
       "3      0.790418           0  0.004166  0.016865  231.951156  "
      ]
     },
     "execution_count": 40,
     "metadata": {},
     "output_type": "execute_result"
    }
   ],
   "source": [
    "rat = pd.read_hdf(path+'velocityDatabase.h5', 'Rat_Behavior').set_index('index')\n",
    "drop_cols =['lVo', 'lx1', 'lz1', 'V1', 'lx2', 'lz2', 'clockwise', 'UM']\n",
    "rat.drop(labels=drop_cols, axis=1, inplace=True)\n",
    "rat.head(3)"
   ]
  },
  {
   "cell_type": "markdown",
   "metadata": {},
   "source": [
    "## Merge DataFrames"
   ]
  },
  {
   "cell_type": "code",
   "execution_count": null,
   "metadata": {},
   "outputs": [],
   "source": [
    "df = pd.merge(rat, stim, on=['session_id', 'Frame', 'Time'])\n",
    "df.head()"
   ]
  },
  {
   "cell_type": "markdown",
   "metadata": {},
   "source": [
    "## Describe Data"
   ]
  },
  {
   "cell_type": "code",
   "execution_count": 67,
   "metadata": {},
   "outputs": [
    {
     "data": {
      "text/plain": [
       "<matplotlib.axes._subplots.AxesSubplot at 0x7f7b1e405b00>"
      ]
     },
     "execution_count": 67,
     "metadata": {},
     "output_type": "execute_result"
    },
    {
     "data": {
      "image/png": "[encoded data removed]",
      "text/plain": [
       "<matplotlib.figure.Figure at 0x7f7b257ff6d8>"
      ]
     },
     "metadata": {},
     "output_type": "display_data"
    }
   ],
   "source": [
    "sns.distplot(np.abs(df.U.dropna()))"
   ]
  },
  {
   "cell_type": "code",
   "execution_count": 68,
   "metadata": {},
   "outputs": [
    {
     "data": {
      "text/plain": [
       "count    761964.000000\n",
       "mean          0.484015\n",
       "std          88.546256\n",
       "min      -23433.466671\n",
       "25%          -5.240342\n",
       "50%           0.031137\n",
       "75%           5.483158\n",
       "max       19338.170218\n",
       "Name: U, dtype: float64"
      ]
     },
     "execution_count": 68,
     "metadata": {},
     "output_type": "execute_result"
    }
   ],
   "source": [
    "df.U.describe()"
   ]
  },
  {
   "cell_type": "code",
   "execution_count": 70,
   "metadata": {},
   "outputs": [
    {
     "data": {
      "text/plain": [
       "<matplotlib.axes._subplots.AxesSubplot at 0x7f7b1ddc3320>"
      ]
     },
     "execution_count": 70,
     "metadata": {},
     "output_type": "execute_result"
    },
    {
     "data": {
      "image/png": "[encoded data removed]",
      "text/plain": [
       "<matplotlib.figure.Figure at 0x7f7b1dd557b8>"
      ]
     },
     "metadata": {},
     "output_type": "display_data"
    }
   ],
   "source": [
    "sns.distplot(df_s.theta.dropna())"
   ]
  },
  {
   "cell_type": "markdown",
   "metadata": {},
   "source": [
    "## Find Rotational Velocity Matches to Stim "
   ]
  },
  {
   "cell_type": "markdown",
   "metadata": {},
   "source": [
    "### Extract Rows with Visible, Moving Stimuli"
   ]
  },
  {
   "cell_type": "code",
   "execution_count": 55,
   "metadata": {},
   "outputs": [
    {
     "name": "stdout",
     "output_type": "stream",
     "text": [
      "Kept 53.54% of data\n"
     ]
    },
    {
     "data": {
      "text/html": [
       "<div>\n",
       "<style scoped>\n",
       "    .dataframe tbody tr th:only-of-type {\n",
       "        vertical-align: middle;\n",
       "    }\n",
       "\n",
       "    .dataframe tbody tr th {\n",
       "        vertical-align: top;\n",
       "    }\n",
       "\n",
       "    .dataframe thead th {\n",
       "        text-align: right;\n",
       "    }\n",
       "</style>\n",
       "<table border=\"1\" class=\"dataframe\">\n",
       "  <thead>\n",
       "    <tr style=\"text-align: right;\">\n",
       "      <th></th>\n",
       "      <th>Frame</th>\n",
       "      <th>Time</th>\n",
       "      <th>X_Pos</th>\n",
       "      <th>Y_Pos</th>\n",
       "      <th>Z_Pos</th>\n",
       "      <th>X_Ori</th>\n",
       "      <th>Y_Ori</th>\n",
       "      <th>Z_Ori</th>\n",
       "      <th>session_id</th>\n",
       "      <th>dT</th>\n",
       "      <th>theta</th>\n",
       "      <th>U</th>\n",
       "      <th>visible</th>\n",
       "      <th>speed</th>\n",
       "    </tr>\n",
       "  </thead>\n",
       "  <tbody>\n",
       "    <tr>\n",
       "      <th>138</th>\n",
       "      <td>5281</td>\n",
       "      <td>22.004168</td>\n",
       "      <td>0.095665</td>\n",
       "      <td>0.095485</td>\n",
       "      <td>-0.035553</td>\n",
       "      <td>0.875101</td>\n",
       "      <td>-0.011397</td>\n",
       "      <td>-0.214179</td>\n",
       "      <td>0</td>\n",
       "      <td>0.004167</td>\n",
       "      <td>0.008504</td>\n",
       "      <td>116.924466</td>\n",
       "      <td>1</td>\n",
       "      <td>28.0</td>\n",
       "    </tr>\n",
       "    <tr>\n",
       "      <th>139</th>\n",
       "      <td>5282</td>\n",
       "      <td>22.008335</td>\n",
       "      <td>0.095456</td>\n",
       "      <td>0.095654</td>\n",
       "      <td>-0.036624</td>\n",
       "      <td>0.874024</td>\n",
       "      <td>-0.006324</td>\n",
       "      <td>-0.221852</td>\n",
       "      <td>0</td>\n",
       "      <td>0.004167</td>\n",
       "      <td>0.008549</td>\n",
       "      <td>117.551849</td>\n",
       "      <td>1</td>\n",
       "      <td>28.0</td>\n",
       "    </tr>\n",
       "    <tr>\n",
       "      <th>140</th>\n",
       "      <td>5283</td>\n",
       "      <td>22.012501</td>\n",
       "      <td>0.095254</td>\n",
       "      <td>0.095816</td>\n",
       "      <td>-0.037698</td>\n",
       "      <td>0.872819</td>\n",
       "      <td>-0.001682</td>\n",
       "      <td>-0.229596</td>\n",
       "      <td>0</td>\n",
       "      <td>0.004166</td>\n",
       "      <td>0.008645</td>\n",
       "      <td>118.892507</td>\n",
       "      <td>1</td>\n",
       "      <td>28.0</td>\n",
       "    </tr>\n",
       "    <tr>\n",
       "      <th>141</th>\n",
       "      <td>5284</td>\n",
       "      <td>22.016668</td>\n",
       "      <td>0.095065</td>\n",
       "      <td>0.095975</td>\n",
       "      <td>-0.038771</td>\n",
       "      <td>0.871538</td>\n",
       "      <td>0.002758</td>\n",
       "      <td>-0.237383</td>\n",
       "      <td>0</td>\n",
       "      <td>0.004167</td>\n",
       "      <td>0.008698</td>\n",
       "      <td>119.602309</td>\n",
       "      <td>1</td>\n",
       "      <td>28.0</td>\n",
       "    </tr>\n",
       "    <tr>\n",
       "      <th>142</th>\n",
       "      <td>5285</td>\n",
       "      <td>22.020835</td>\n",
       "      <td>0.094884</td>\n",
       "      <td>0.096129</td>\n",
       "      <td>-0.039840</td>\n",
       "      <td>0.870169</td>\n",
       "      <td>0.006886</td>\n",
       "      <td>-0.245222</td>\n",
       "      <td>0</td>\n",
       "      <td>0.004167</td>\n",
       "      <td>0.008764</td>\n",
       "      <td>120.505520</td>\n",
       "      <td>1</td>\n",
       "      <td>28.0</td>\n",
       "    </tr>\n",
       "  </tbody>\n",
       "</table>\n",
       "</div>"
      ],
      "text/plain": [
       "     Frame       Time     X_Pos     Y_Pos     Z_Pos     X_Ori     Y_Ori  \\\n",
       "138   5281  22.004168  0.095665  0.095485 -0.035553  0.875101 -0.011397   \n",
       "139   5282  22.008335  0.095456  0.095654 -0.036624  0.874024 -0.006324   \n",
       "140   5283  22.012501  0.095254  0.095816 -0.037698  0.872819 -0.001682   \n",
       "141   5284  22.016668  0.095065  0.095975 -0.038771  0.871538  0.002758   \n",
       "142   5285  22.020835  0.094884  0.096129 -0.039840  0.870169  0.006886   \n",
       "\n",
       "        Z_Ori  session_id        dT     theta           U  visible  speed  \n",
       "138 -0.214179           0  0.004167  0.008504  116.924466        1   28.0  \n",
       "139 -0.221852           0  0.004167  0.008549  117.551849        1   28.0  \n",
       "140 -0.229596           0  0.004166  0.008645  118.892507        1   28.0  \n",
       "141 -0.237383           0  0.004167  0.008698  119.602309        1   28.0  \n",
       "142 -0.245222           0  0.004167  0.008764  120.505520        1   28.0  "
      ]
     },
     "execution_count": 55,
     "metadata": {},
     "output_type": "execute_result"
    }
   ],
   "source": [
    "stim_on_mask = (df.speed != 0) & (df.visible == 1)\n",
    "df_s = df[stim_on_mask]\n",
    "print('Kept {:.2f}% of data'.format(100 * len(df_s) / len(df)))\n",
    "df_s.head()"
   ]
  },
  {
   "cell_type": "code",
   "execution_count": null,
   "metadata": {},
   "outputs": [],
   "source": []
  },
  {
   "cell_type": "code",
   "execution_count": 59,
   "metadata": {},
   "outputs": [
    {
     "data": {
      "image/png": "[encoded data removed]",
      "text/plain": [
       "<matplotlib.figure.Figure at 0x7f7b1e2ef780>"
      ]
     },
     "metadata": {},
     "output_type": "display_data"
    }
   ],
   "source": [
    "mask = \n",
    "g = sns.FacetGrid(data=df_s, size=6, aspect=5, hue='speed')\n",
    "g.map(sns.distplot, 'U');"
   ]
  }
 ],
 "metadata": {
  "kernelspec": {
   "display_name": "Python 3",
   "language": "python",
   "name": "python3"
  },
  "language_info": {
   "codemirror_mode": {
    "name": "ipython",
    "version": 3
   },
   "file_extension": ".py",
   "mimetype": "text/x-python",
   "name": "python",
   "nbconvert_exporter": "python",
   "pygments_lexer": "ipython3",
   "version": "3.6.3"
  }
 },
 "nbformat": 4,
 "nbformat_minor": 2
}
