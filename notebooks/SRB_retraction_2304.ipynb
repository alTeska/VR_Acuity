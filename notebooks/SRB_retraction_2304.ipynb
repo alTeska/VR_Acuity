{
 "cells": [
  {
   "cell_type": "code",
   "execution_count": 1,
   "metadata": {},
   "outputs": [],
   "source": [
    "# data loading\n",
    "import numpy as np\n",
    "import pandas as pd\n",
    "import matplotlib.pyplot as plt\n",
    "import seaborn as sns\n",
    "from mpl_toolkits.mplot3d import Axes3D\n",
    "from scipy import stats, integrate\n",
    "\n",
    "%matplotlib inline\n",
    "sns.set(color_codes=True)\n",
    "\n",
    "path = '../datasets/preprocessed/'\n",
    "dfrat     = pd.read_hdf(path+'relationalDatabase.h5', 'Rat_Behavior').set_index('index')\n",
    "dfevent   = pd.read_hdf(path+'relationalDatabase.h5', 'Events').set_index('index')\n",
    "dfsession = pd.read_hdf(path+'relationalDatabase.h5', 'Sessions')\n",
    "\n",
    "dfratclean = pd.read_hdf(path+'filteredDatabase.h5', 'Rat_Behavior').set_index('index')\n",
    "dfratv = pd.read_hdf(path+'velocityDatabase.h5', 'Rat_Behavior').set_index('index')"
   ]
  },
  {
   "cell_type": "code",
   "execution_count": 2,
   "metadata": {},
   "outputs": [],
   "source": [
    "df = pd.merge(dfratv, dfevent, on=['Frame', 'session_id','Time'])\n",
    "df['subU'] = df['speed'] - df['U'] \n",
    "df['subUM'] = df['speed'] - df['UM'] "
   ]
  },
  {
   "cell_type": "code",
   "execution_count": 3,
   "metadata": {},
   "outputs": [],
   "source": [
    "dfSRB7 = pd.DataFrame()\n",
    "dd7 = df[df['session_id']==7]"
   ]
  },
  {
   "cell_type": "code",
   "execution_count": 4,
   "metadata": {},
   "outputs": [
    {
     "data": {
      "image/png": "[encoded data removed]",
      "text/plain": [
       "<matplotlib.figure.Figure at 0x7f7b2a358d68>"
      ]
     },
     "metadata": {},
     "output_type": "display_data"
    }
   ],
   "source": [
    "# 225, 230\n",
    "dpart = dd7[(dd7['Time']>225.5) & (dd7['Time']<230)]\n",
    "xmin, xmax = 226, 229.85\n",
    "\n",
    "g = sns.FacetGrid(data=dpart, size=6, aspect=2)#, ylim=[-30,30])\n",
    "g.map(plt.plot, \"Time\", \"UM\", alpha=1, linewidth=1, color='green');\n",
    "g.map(plt.plot, \"Time\", \"speed\" , alpha=1, linewidth=1);\n",
    "# g.map(plt.plot, \"Time\", \"subU\", alpha=1, linewidth=1, color='pink');\n",
    "g.map(plt.axvline, x=xmin, alpha=1, linewidth=1, color='red');\n",
    "g.map(plt.axvline, x=xmax, alpha=1, linewidth=1, color='red');\n",
    "g.map(plt.axhline, y=0, alpha=1, linewidth=1, color='green');\n",
    "\n",
    "g.map(plt.axhline, y=-8, alpha=1, linewidth=1, color='pink');\n",
    "g.map(plt.axhline, y=-28, alpha=1, linewidth=1, color='pink');\n"
   ]
  },
  {
   "cell_type": "code",
   "execution_count": 5,
   "metadata": {},
   "outputs": [],
   "source": [
    "dfV = dpart.copy()\n",
    "dfV['SRB'] = dfV['U'] < -8"
   ]
  },
  {
   "cell_type": "code",
   "execution_count": 6,
   "metadata": {},
   "outputs": [
    {
     "data": {
      "text/html": [
       "<div>\n",
       "<style scoped>\n",
       "    .dataframe tbody tr th:only-of-type {\n",
       "        vertical-align: middle;\n",
       "    }\n",
       "\n",
       "    .dataframe tbody tr th {\n",
       "        vertical-align: top;\n",
       "    }\n",
       "\n",
       "    .dataframe thead th {\n",
       "        text-align: right;\n",
       "    }\n",
       "</style>\n",
       "<table border=\"1\" class=\"dataframe\">\n",
       "  <thead>\n",
       "    <tr style=\"text-align: right;\">\n",
       "      <th></th>\n",
       "      <th>Frame</th>\n",
       "      <th>Time</th>\n",
       "      <th>X_Pos</th>\n",
       "      <th>Y_Pos</th>\n",
       "      <th>Z_Pos</th>\n",
       "      <th>X_Ori</th>\n",
       "      <th>Y_Ori</th>\n",
       "      <th>Z_Ori</th>\n",
       "      <th>session_id</th>\n",
       "      <th>dT</th>\n",
       "      <th>...</th>\n",
       "      <th>clockwise</th>\n",
       "      <th>theta</th>\n",
       "      <th>U</th>\n",
       "      <th>UM</th>\n",
       "      <th>MotiveExpTimeSecs</th>\n",
       "      <th>visible</th>\n",
       "      <th>speed</th>\n",
       "      <th>subU</th>\n",
       "      <th>subUM</th>\n",
       "      <th>SRB</th>\n",
       "    </tr>\n",
       "  </thead>\n",
       "  <tbody>\n",
       "    <tr>\n",
       "      <th>711383</th>\n",
       "      <td>54120</td>\n",
       "      <td>225.500014</td>\n",
       "      <td>-0.075602</td>\n",
       "      <td>0.092676</td>\n",
       "      <td>-0.018167</td>\n",
       "      <td>-0.985828</td>\n",
       "      <td>-0.131924</td>\n",
       "      <td>0.055563</td>\n",
       "      <td>7</td>\n",
       "      <td>0.004166</td>\n",
       "      <td>...</td>\n",
       "      <td>-1</td>\n",
       "      <td>0.003006</td>\n",
       "      <td>-41.337379</td>\n",
       "      <td>-41.337815</td>\n",
       "      <td>218.966667</td>\n",
       "      <td>1</td>\n",
       "      <td>-28.0</td>\n",
       "      <td>13.337379</td>\n",
       "      <td>13.337815</td>\n",
       "      <td>True</td>\n",
       "    </tr>\n",
       "    <tr>\n",
       "      <th>711384</th>\n",
       "      <td>54121</td>\n",
       "      <td>225.504181</td>\n",
       "      <td>-0.075579</td>\n",
       "      <td>0.092755</td>\n",
       "      <td>-0.018292</td>\n",
       "      <td>-0.986250</td>\n",
       "      <td>-0.130399</td>\n",
       "      <td>0.052616</td>\n",
       "      <td>7</td>\n",
       "      <td>0.004167</td>\n",
       "      <td>...</td>\n",
       "      <td>-1</td>\n",
       "      <td>0.003003</td>\n",
       "      <td>-41.296874</td>\n",
       "      <td>-41.234645</td>\n",
       "      <td>218.966667</td>\n",
       "      <td>1</td>\n",
       "      <td>-28.0</td>\n",
       "      <td>13.296874</td>\n",
       "      <td>13.234645</td>\n",
       "      <td>True</td>\n",
       "    </tr>\n",
       "    <tr>\n",
       "      <th>711385</th>\n",
       "      <td>54122</td>\n",
       "      <td>225.508348</td>\n",
       "      <td>-0.075556</td>\n",
       "      <td>0.092834</td>\n",
       "      <td>-0.018417</td>\n",
       "      <td>-0.986665</td>\n",
       "      <td>-0.128878</td>\n",
       "      <td>0.049676</td>\n",
       "      <td>7</td>\n",
       "      <td>0.004167</td>\n",
       "      <td>...</td>\n",
       "      <td>-1</td>\n",
       "      <td>0.002994</td>\n",
       "      <td>-41.162648</td>\n",
       "      <td>-41.134021</td>\n",
       "      <td>218.966667</td>\n",
       "      <td>1</td>\n",
       "      <td>-28.0</td>\n",
       "      <td>13.162648</td>\n",
       "      <td>13.134021</td>\n",
       "      <td>True</td>\n",
       "    </tr>\n",
       "    <tr>\n",
       "      <th>711386</th>\n",
       "      <td>54123</td>\n",
       "      <td>225.512514</td>\n",
       "      <td>-0.075533</td>\n",
       "      <td>0.092911</td>\n",
       "      <td>-0.018540</td>\n",
       "      <td>-0.987071</td>\n",
       "      <td>-0.127363</td>\n",
       "      <td>0.046746</td>\n",
       "      <td>7</td>\n",
       "      <td>0.004166</td>\n",
       "      <td>...</td>\n",
       "      <td>-1</td>\n",
       "      <td>0.002982</td>\n",
       "      <td>-41.011905</td>\n",
       "      <td>-41.023041</td>\n",
       "      <td>218.966667</td>\n",
       "      <td>1</td>\n",
       "      <td>-28.0</td>\n",
       "      <td>13.011905</td>\n",
       "      <td>13.023041</td>\n",
       "      <td>True</td>\n",
       "    </tr>\n",
       "    <tr>\n",
       "      <th>711387</th>\n",
       "      <td>54124</td>\n",
       "      <td>225.516681</td>\n",
       "      <td>-0.075511</td>\n",
       "      <td>0.092988</td>\n",
       "      <td>-0.018663</td>\n",
       "      <td>-0.987466</td>\n",
       "      <td>-0.125879</td>\n",
       "      <td>0.043828</td>\n",
       "      <td>7</td>\n",
       "      <td>0.004167</td>\n",
       "      <td>...</td>\n",
       "      <td>-1</td>\n",
       "      <td>0.002968</td>\n",
       "      <td>-40.812199</td>\n",
       "      <td>-40.914105</td>\n",
       "      <td>218.966667</td>\n",
       "      <td>1</td>\n",
       "      <td>-28.0</td>\n",
       "      <td>12.812199</td>\n",
       "      <td>12.914105</td>\n",
       "      <td>True</td>\n",
       "    </tr>\n",
       "  </tbody>\n",
       "</table>\n",
       "<p>5 rows × 26 columns</p>\n",
       "</div>"
      ],
      "text/plain": [
       "        Frame        Time     X_Pos     Y_Pos     Z_Pos     X_Ori     Y_Ori  \\\n",
       "711383  54120  225.500014 -0.075602  0.092676 -0.018167 -0.985828 -0.131924   \n",
       "711384  54121  225.504181 -0.075579  0.092755 -0.018292 -0.986250 -0.130399   \n",
       "711385  54122  225.508348 -0.075556  0.092834 -0.018417 -0.986665 -0.128878   \n",
       "711386  54123  225.512514 -0.075533  0.092911 -0.018540 -0.987071 -0.127363   \n",
       "711387  54124  225.516681 -0.075511  0.092988 -0.018663 -0.987466 -0.125879   \n",
       "\n",
       "           Z_Ori  session_id        dT  ...   clockwise     theta          U  \\\n",
       "711383  0.055563           7  0.004166  ...          -1  0.003006 -41.337379   \n",
       "711384  0.052616           7  0.004167  ...          -1  0.003003 -41.296874   \n",
       "711385  0.049676           7  0.004167  ...          -1  0.002994 -41.162648   \n",
       "711386  0.046746           7  0.004166  ...          -1  0.002982 -41.011905   \n",
       "711387  0.043828           7  0.004167  ...          -1  0.002968 -40.812199   \n",
       "\n",
       "               UM  MotiveExpTimeSecs  visible  speed       subU      subUM  \\\n",
       "711383 -41.337815         218.966667        1  -28.0  13.337379  13.337815   \n",
       "711384 -41.234645         218.966667        1  -28.0  13.296874  13.234645   \n",
       "711385 -41.134021         218.966667        1  -28.0  13.162648  13.134021   \n",
       "711386 -41.023041         218.966667        1  -28.0  13.011905  13.023041   \n",
       "711387 -40.914105         218.966667        1  -28.0  12.812199  12.914105   \n",
       "\n",
       "         SRB  \n",
       "711383  True  \n",
       "711384  True  \n",
       "711385  True  \n",
       "711386  True  \n",
       "711387  True  \n",
       "\n",
       "[5 rows x 26 columns]"
      ]
     },
     "execution_count": 6,
     "metadata": {},
     "output_type": "execute_result"
    }
   ],
   "source": [
    "dfV.head()"
   ]
  },
  {
   "cell_type": "code",
   "execution_count": 7,
   "metadata": {},
   "outputs": [
    {
     "name": "stdout",
     "output_type": "stream",
     "text": [
      "516\n",
      "1080\n"
     ]
    }
   ],
   "source": [
    "print(len(dfV[dfV['SRB']==True]))\n",
    "print(len(dpart))"
   ]
  },
  {
   "cell_type": "code",
   "execution_count": 8,
   "metadata": {},
   "outputs": [
    {
     "data": {
      "image/png": "[encoded data removed]",
      "text/plain": [
       "<matplotlib.figure.Figure at 0x7f7b3046b4a8>"
      ]
     },
     "metadata": {},
     "output_type": "display_data"
    }
   ],
   "source": [
    "# 225, 230\n",
    "g = sns.FacetGrid(data=dfV[dfV['SRB']==True], size=6, aspect=2, xlim=[226,230])\n",
    "g.map(plt.plot, \"Time\", \"UM\", alpha=1, linewidth=1, color='green');\n",
    "g.map(plt.plot, \"Time\", \"speed\" , alpha=1, linewidth=1);\n",
    "# g.map(plt.plot, \"Time\", \"subU\", alpha=1, linewidth=1, color='pink');\n",
    "g.map(plt.axvline, x=xmin, alpha=1, linewidth=1, color='red');\n",
    "g.map(plt.axvline, x=xmax, alpha=1, linewidth=1, color='red');\n",
    "g.map(plt.axhline, y=0, alpha=1, linewidth=1, color='green');\n",
    "\n",
    "g.map(plt.axhline, y=-8, alpha=1, linewidth=1, color='pink');\n",
    "g.map(plt.axhline, y=-28, alpha=1, linewidth=1, color='pink');\n"
   ]
  },
  {
   "cell_type": "code",
   "execution_count": 19,
   "metadata": {},
   "outputs": [
    {
     "name": "stderr",
     "output_type": "stream",
     "text": [
      "/home/ateska/anaconda3/lib/python3.6/site-packages/ipykernel_launcher.py:2: SettingWithCopyWarning: \n",
      "A value is trying to be set on a copy of a slice from a DataFrame.\n",
      "Try using .loc[row_indexer,col_indexer] = value instead\n",
      "\n",
      "See the caveats in the documentation: http://pandas.pydata.org/pandas-docs/stable/indexing.html#indexing-view-versus-copy\n",
      "  \n"
     ]
    }
   ],
   "source": [
    "dfSRB = dfV[dfV['SRB']==True]\n",
    "dfSRB['dtime'] = dfSRB['Time'].diff(1)"
   ]
  },
  {
   "cell_type": "code",
   "execution_count": 26,
   "metadata": {},
   "outputs": [
    {
     "data": {
      "image/png": "[encoded data removed]",
      "text/plain": [
       "<matplotlib.figure.Figure at 0x7f7b2c9e77f0>"
      ]
     },
     "metadata": {},
     "output_type": "display_data"
    },
    {
     "data": {
      "image/png": "[encoded data removed]",
      "text/plain": [
       "<matplotlib.figure.Figure at 0x7f7b2cd60048>"
      ]
     },
     "metadata": {},
     "output_type": "display_data"
    }
   ],
   "source": [
    "g = sns.FacetGrid(data=dfSRB, size=4, aspect=2)\n",
    "g.map(sns.distplot, 'subU');\n",
    "g = sns.FacetGrid(data=dfSRB, size=4, aspect=2)\n",
    "g.map(sns.distplot, 'dtime');"
   ]
  },
  {
   "cell_type": "code",
   "execution_count": 25,
   "metadata": {},
   "outputs": [
    {
     "data": {
      "image/png": "[encoded data removed]",
      "text/plain": [
       "<matplotlib.figure.Figure at 0x7f7b2cd01cf8>"
      ]
     },
     "metadata": {},
     "output_type": "display_data"
    }
   ],
   "source": [
    "g = sns.FacetGrid(data=dfSRB, size=6, aspect=2)\n",
    "g.map(plt.plot, \"Time\", \"UM\", alpha=1, linewidth=1, color='green');\n",
    "g.map(plt.plot, \"Time\", \"speed\" , alpha=1, linewidth=1);\n",
    "g.map(plt.scatter, \"Time\", \"dtime\" , alpha=1, linewidth=1, color='red', s=0.5);\n"
   ]
  },
  {
   "cell_type": "code",
   "execution_count": 39,
   "metadata": {},
   "outputs": [
    {
     "name": "stdout",
     "output_type": "stream",
     "text": [
      "  Set Type  color\n",
      "0   Z    A  green\n",
      "1   Z    B  green\n",
      "2   X    B    red\n",
      "3   Y    C    red\n",
      "  Set Type   color\n",
      "0   Z    A  yellow\n",
      "1   Z    B    blue\n",
      "2   X    B  purple\n",
      "3   Y    C   black\n"
     ]
    }
   ],
   "source": [
    "df = pd.DataFrame({'Type':list('ABBC'), 'Set':list('ZZXY')})\n",
    "df['color'] = np.where(df['Set']=='Z', 'green', 'red')\n",
    "print(df)\n",
    "\n",
    "conditions = [\n",
    "    (df['Set'] == 'Z') & (df['Type'] == 'A'),\n",
    "    (df['Set'] == 'Z') & (df['Type'] == 'B'),\n",
    "    (df['Type'] == 'B')]\n",
    "choices = ['yellow', 'blue', 'purple']\n",
    "df['color'] = np.select(conditions, choices, default='black')\n",
    "print(df)"
   ]
  },
  {
   "cell_type": "code",
   "execution_count": 45,
   "metadata": {},
   "outputs": [
    {
     "name": "stderr",
     "output_type": "stream",
     "text": [
      "/home/ateska/anaconda3/lib/python3.6/site-packages/ipykernel_launcher.py:3: SettingWithCopyWarning: \n",
      "A value is trying to be set on a copy of a slice from a DataFrame.\n",
      "Try using .loc[row_indexer,col_indexer] = value instead\n",
      "\n",
      "See the caveats in the documentation: http://pandas.pydata.org/pandas-docs/stable/indexing.html#indexing-view-versus-copy\n",
      "  This is separate from the ipykernel package so we can avoid doing imports until\n"
     ]
    },
    {
     "data": {
      "text/html": [
       "<div>\n",
       "<style scoped>\n",
       "    .dataframe tbody tr th:only-of-type {\n",
       "        vertical-align: middle;\n",
       "    }\n",
       "\n",
       "    .dataframe tbody tr th {\n",
       "        vertical-align: top;\n",
       "    }\n",
       "\n",
       "    .dataframe thead th {\n",
       "        text-align: right;\n",
       "    }\n",
       "</style>\n",
       "<table border=\"1\" class=\"dataframe\">\n",
       "  <thead>\n",
       "    <tr style=\"text-align: right;\">\n",
       "      <th></th>\n",
       "      <th>Frame</th>\n",
       "      <th>Time</th>\n",
       "      <th>X_Pos</th>\n",
       "      <th>Y_Pos</th>\n",
       "      <th>Z_Pos</th>\n",
       "      <th>X_Ori</th>\n",
       "      <th>Y_Ori</th>\n",
       "      <th>Z_Ori</th>\n",
       "      <th>session_id</th>\n",
       "      <th>dT</th>\n",
       "      <th>...</th>\n",
       "      <th>U</th>\n",
       "      <th>UM</th>\n",
       "      <th>MotiveExpTimeSecs</th>\n",
       "      <th>visible</th>\n",
       "      <th>speed</th>\n",
       "      <th>subU</th>\n",
       "      <th>subUM</th>\n",
       "      <th>SRB</th>\n",
       "      <th>dtime</th>\n",
       "      <th>retract</th>\n",
       "    </tr>\n",
       "  </thead>\n",
       "  <tbody>\n",
       "    <tr>\n",
       "      <th>711773</th>\n",
       "      <td>54510</td>\n",
       "      <td>227.125014</td>\n",
       "      <td>-0.070379</td>\n",
       "      <td>0.102093</td>\n",
       "      <td>-0.031747</td>\n",
       "      <td>-0.997785</td>\n",
       "      <td>0.050188</td>\n",
       "      <td>-0.036228</td>\n",
       "      <td>7</td>\n",
       "      <td>0.004166</td>\n",
       "      <td>...</td>\n",
       "      <td>-8.092803</td>\n",
       "      <td>-6.874594</td>\n",
       "      <td>218.966667</td>\n",
       "      <td>1</td>\n",
       "      <td>-28.0</td>\n",
       "      <td>-19.907197</td>\n",
       "      <td>-21.125406</td>\n",
       "      <td>True</td>\n",
       "      <td>0.550000</td>\n",
       "      <td>True</td>\n",
       "    </tr>\n",
       "    <tr>\n",
       "      <th>712150</th>\n",
       "      <td>54887</td>\n",
       "      <td>228.695848</td>\n",
       "      <td>-0.073097</td>\n",
       "      <td>0.096974</td>\n",
       "      <td>-0.028990</td>\n",
       "      <td>-0.980203</td>\n",
       "      <td>-0.182151</td>\n",
       "      <td>0.074861</td>\n",
       "      <td>7</td>\n",
       "      <td>0.004167</td>\n",
       "      <td>...</td>\n",
       "      <td>-8.029581</td>\n",
       "      <td>-7.101879</td>\n",
       "      <td>218.966667</td>\n",
       "      <td>1</td>\n",
       "      <td>-28.0</td>\n",
       "      <td>-19.970419</td>\n",
       "      <td>-20.898121</td>\n",
       "      <td>True</td>\n",
       "      <td>0.966667</td>\n",
       "      <td>True</td>\n",
       "    </tr>\n",
       "  </tbody>\n",
       "</table>\n",
       "<p>2 rows × 28 columns</p>\n",
       "</div>"
      ],
      "text/plain": [
       "        Frame        Time     X_Pos     Y_Pos     Z_Pos     X_Ori     Y_Ori  \\\n",
       "711773  54510  227.125014 -0.070379  0.102093 -0.031747 -0.997785  0.050188   \n",
       "712150  54887  228.695848 -0.073097  0.096974 -0.028990 -0.980203 -0.182151   \n",
       "\n",
       "           Z_Ori  session_id        dT   ...            U        UM  \\\n",
       "711773 -0.036228           7  0.004166   ...    -8.092803 -6.874594   \n",
       "712150  0.074861           7  0.004167   ...    -8.029581 -7.101879   \n",
       "\n",
       "        MotiveExpTimeSecs  visible  speed       subU      subUM   SRB  \\\n",
       "711773         218.966667        1  -28.0 -19.907197 -21.125406  True   \n",
       "712150         218.966667        1  -28.0 -19.970419 -20.898121  True   \n",
       "\n",
       "           dtime  retract  \n",
       "711773  0.550000     True  \n",
       "712150  0.966667     True  \n",
       "\n",
       "[2 rows x 28 columns]"
      ]
     },
     "execution_count": 45,
     "metadata": {},
     "output_type": "execute_result"
    }
   ],
   "source": [
    "# dfSRB['retract'] = dfSRB[dfSRB['dtime']>0.5]\n",
    "# dfSRB['retract'] = np.select(dfSRB['dtime']>0.5, 'True', default='False')\n",
    "dfSRB['retract'] = np.where(dfSRB['dtime']>0.5, True, False)\n",
    "dfSRB[dfSRB['retract']==True ]"
   ]
  },
  {
   "cell_type": "code",
   "execution_count": null,
   "metadata": {},
   "outputs": [],
   "source": []
  }
 ],
 "metadata": {
  "kernelspec": {
   "display_name": "Python 3",
   "language": "python",
   "name": "python3"
  },
  "language_info": {
   "codemirror_mode": {
    "name": "ipython",
    "version": 3
   },
   "file_extension": ".py",
   "mimetype": "text/x-python",
   "name": "python",
   "nbconvert_exporter": "python",
   "pygments_lexer": "ipython3",
   "version": "3.6.3"
  }
 },
 "nbformat": 4,
 "nbformat_minor": 2
}
